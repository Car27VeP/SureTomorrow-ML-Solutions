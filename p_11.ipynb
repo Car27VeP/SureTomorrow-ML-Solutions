{
 "cells": [
  {
   "cell_type": "markdown",
   "metadata": {},
   "source": [
    "Hola José!\n",
    "\n",
    "Soy **Patricio Requena** 👋. Es un placer ser el revisor de tu proyecto el día de hoy!\n",
    "\n",
    "Revisaré tu proyecto detenidamente con el objetivo de ayudarte a mejorar y perfeccionar tus habilidades. Durante mi revisión, identificaré áreas donde puedas hacer mejoras en tu código, señalando específicamente qué y cómo podrías ajustar para optimizar el rendimiento y la claridad de tu proyecto. Además, es importante para mí destacar los aspectos que has manejado excepcionalmente bien. Reconocer tus fortalezas te ayudará a entender qué técnicas y métodos están funcionando a tu favor y cómo puedes aplicarlos en futuras tareas. \n",
    "\n",
    "_**Recuerda que al final de este notebook encontrarás un comentario general de mi parte**_, empecemos!\n",
    "\n",
    "Encontrarás mis comentarios dentro de cajas verdes, amarillas o rojas, ⚠️ **por favor, no muevas, modifiques o borres mis comentarios** ⚠️:\n",
    "\n",
    "\n",
    "<div class=\"alert alert-block alert-success\">\n",
    "<b>Comentario del revisor</b> <a class=“tocSkip”></a>\n",
    "Si todo está perfecto.\n",
    "</div>\n",
    "\n",
    "<div class=\"alert alert-block alert-warning\">\n",
    "<b>Comentario del revisor</b> <a class=“tocSkip”></a>\n",
    "Si tu código está bien pero se puede mejorar o hay algún detalle que le hace falta.\n",
    "</div>\n",
    "\n",
    "<div class=\"alert alert-block alert-danger\">\n",
    "<b>Comentario del revisor</b> <a class=“tocSkip”></a>\n",
    "Si de pronto hace falta algo o existe algún problema con tu código o conclusiones.\n",
    "</div>\n",
    "\n",
    "Puedes responderme de esta forma:\n",
    "<div class=\"alert alert-block alert-info\">\n",
    "<b>Respuesta del estudiante</b> <a class=“tocSkip”></a>\n",
    "</div>"
   ]
  },
  {
   "cell_type": "markdown",
   "metadata": {},
   "source": [
    "# Descripción"
   ]
  },
  {
   "cell_type": "markdown",
   "metadata": {},
   "source": [
    "La compañía de seguros Sure Tomorrow quiere resolver varias tareas con la ayuda de machine learning y te pide que evalúes esa posibilidad.\n",
    "- Tarea 1: encontrar clientes que sean similares a un cliente determinado. Esto ayudará a los agentes de la compañía con el marketing.\n",
    "- Tarea 2: predecir la probabilidad de que un nuevo cliente reciba una prestación del seguro. ¿Puede un modelo de predictivo funcionar mejor que un modelo dummy?\n",
    "- Tarea 3: predecir el número de prestaciones de seguro que un nuevo cliente pueda recibir utilizando un modelo de regresión lineal.\n",
    "- Tarea 4: proteger los datos personales de los clientes sin afectar al modelo del ejercicio anterior. Es necesario desarrollar un algoritmo de transformación de datos que dificulte la recuperación de la información personal si los datos caen en manos equivocadas. Esto se denomina enmascaramiento u ofuscación de datos. Pero los datos deben protegerse de tal manera que no se vea afectada la calidad de los modelos de machine learning. No es necesario elegir el mejor modelo, basta con demostrar que el algoritmo funciona correctamente.\n"
   ]
  },
  {
   "cell_type": "markdown",
   "metadata": {},
   "source": [
    "# Preprocesamiento y exploración de datos\n",
    "\n",
    "## Inicialización"
   ]
  },
  {
   "cell_type": "code",
   "execution_count": 4,
   "metadata": {},
   "outputs": [],
   "source": [
    "#pip install scikit-learn --upgrade"
   ]
  },
  {
   "cell_type": "code",
   "execution_count": 5,
   "metadata": {},
   "outputs": [],
   "source": [
    "import numpy as np\n",
    "import pandas as pd\n",
    "\n",
    "import seaborn as sns\n",
    "\n",
    "import sklearn.linear_model\n",
    "import sklearn.metrics\n",
    "import sklearn.neighbors\n",
    "import sklearn.preprocessing\n",
    "\n",
    "from sklearn.model_selection import train_test_split\n",
    "\n",
    "from IPython.display import display\n",
    "\n",
    "from sklearn.neighbors import NearestNeighbors, KNeighborsClassifier\n",
    "\n",
    "from scipy.spatial import distance\n",
    "\n",
    "import matplotlib.pyplot as plt\n",
    "\n",
    "import math"
   ]
  },
  {
   "cell_type": "markdown",
   "metadata": {},
   "source": [
    "## Carga de datos"
   ]
  },
  {
   "cell_type": "markdown",
   "metadata": {},
   "source": [
    "Carga los datos y haz una revisión básica para comprobar que no hay problemas obvios."
   ]
  },
  {
   "cell_type": "code",
   "execution_count": 6,
   "metadata": {},
   "outputs": [],
   "source": [
    "df = pd.read_csv('insurance_us.csv')"
   ]
  },
  {
   "cell_type": "markdown",
   "metadata": {},
   "source": [
    "Renombramos las columnas para que el código se vea más coherente con su estilo."
   ]
  },
  {
   "cell_type": "code",
   "execution_count": 7,
   "metadata": {},
   "outputs": [],
   "source": [
    "df = df.rename(columns={'Gender': 'gender', 'Age': 'age', 'Salary': 'income', 'Family members': 'family_members', 'Insurance benefits': 'insurance_benefits'})"
   ]
  },
  {
   "cell_type": "markdown",
   "metadata": {},
   "source": [
    "<div class=\"alert alert-block alert-success\">\n",
    "<b>Comentario del revisor (1ra Iteracion)</b> <a class=“tocSkip”></a>\n",
    "\n",
    "Buen trabajo con la carga de los datos y el cambio de nombre en las columnas!\n",
    "</div>"
   ]
  },
  {
   "cell_type": "code",
   "execution_count": 8,
   "metadata": {},
   "outputs": [
    {
     "data": {
      "text/html": [
       "<div>\n",
       "<style scoped>\n",
       "    .dataframe tbody tr th:only-of-type {\n",
       "        vertical-align: middle;\n",
       "    }\n",
       "\n",
       "    .dataframe tbody tr th {\n",
       "        vertical-align: top;\n",
       "    }\n",
       "\n",
       "    .dataframe thead th {\n",
       "        text-align: right;\n",
       "    }\n",
       "</style>\n",
       "<table border=\"1\" class=\"dataframe\">\n",
       "  <thead>\n",
       "    <tr style=\"text-align: right;\">\n",
       "      <th></th>\n",
       "      <th>gender</th>\n",
       "      <th>age</th>\n",
       "      <th>income</th>\n",
       "      <th>family_members</th>\n",
       "      <th>insurance_benefits</th>\n",
       "    </tr>\n",
       "  </thead>\n",
       "  <tbody>\n",
       "    <tr>\n",
       "      <th>2619</th>\n",
       "      <td>0</td>\n",
       "      <td>32.0</td>\n",
       "      <td>39300.0</td>\n",
       "      <td>1</td>\n",
       "      <td>0</td>\n",
       "    </tr>\n",
       "    <tr>\n",
       "      <th>1094</th>\n",
       "      <td>1</td>\n",
       "      <td>30.0</td>\n",
       "      <td>51800.0</td>\n",
       "      <td>0</td>\n",
       "      <td>0</td>\n",
       "    </tr>\n",
       "    <tr>\n",
       "      <th>212</th>\n",
       "      <td>1</td>\n",
       "      <td>29.0</td>\n",
       "      <td>49400.0</td>\n",
       "      <td>0</td>\n",
       "      <td>0</td>\n",
       "    </tr>\n",
       "    <tr>\n",
       "      <th>154</th>\n",
       "      <td>0</td>\n",
       "      <td>36.0</td>\n",
       "      <td>43100.0</td>\n",
       "      <td>0</td>\n",
       "      <td>0</td>\n",
       "    </tr>\n",
       "    <tr>\n",
       "      <th>2197</th>\n",
       "      <td>1</td>\n",
       "      <td>39.0</td>\n",
       "      <td>42300.0</td>\n",
       "      <td>0</td>\n",
       "      <td>0</td>\n",
       "    </tr>\n",
       "    <tr>\n",
       "      <th>1312</th>\n",
       "      <td>1</td>\n",
       "      <td>37.0</td>\n",
       "      <td>27000.0</td>\n",
       "      <td>1</td>\n",
       "      <td>0</td>\n",
       "    </tr>\n",
       "    <tr>\n",
       "      <th>1684</th>\n",
       "      <td>1</td>\n",
       "      <td>45.0</td>\n",
       "      <td>58700.0</td>\n",
       "      <td>1</td>\n",
       "      <td>1</td>\n",
       "    </tr>\n",
       "    <tr>\n",
       "      <th>4758</th>\n",
       "      <td>0</td>\n",
       "      <td>30.0</td>\n",
       "      <td>58200.0</td>\n",
       "      <td>2</td>\n",
       "      <td>0</td>\n",
       "    </tr>\n",
       "    <tr>\n",
       "      <th>3317</th>\n",
       "      <td>0</td>\n",
       "      <td>37.0</td>\n",
       "      <td>45000.0</td>\n",
       "      <td>4</td>\n",
       "      <td>0</td>\n",
       "    </tr>\n",
       "    <tr>\n",
       "      <th>3522</th>\n",
       "      <td>1</td>\n",
       "      <td>24.0</td>\n",
       "      <td>32400.0</td>\n",
       "      <td>2</td>\n",
       "      <td>0</td>\n",
       "    </tr>\n",
       "  </tbody>\n",
       "</table>\n",
       "</div>"
      ],
      "text/plain": [
       "      gender   age   income  family_members  insurance_benefits\n",
       "2619       0  32.0  39300.0               1                   0\n",
       "1094       1  30.0  51800.0               0                   0\n",
       "212        1  29.0  49400.0               0                   0\n",
       "154        0  36.0  43100.0               0                   0\n",
       "2197       1  39.0  42300.0               0                   0\n",
       "1312       1  37.0  27000.0               1                   0\n",
       "1684       1  45.0  58700.0               1                   1\n",
       "4758       0  30.0  58200.0               2                   0\n",
       "3317       0  37.0  45000.0               4                   0\n",
       "3522       1  24.0  32400.0               2                   0"
      ]
     },
     "execution_count": 8,
     "metadata": {},
     "output_type": "execute_result"
    }
   ],
   "source": [
    "df.sample(10)"
   ]
  },
  {
   "cell_type": "code",
   "execution_count": 9,
   "metadata": {},
   "outputs": [
    {
     "name": "stdout",
     "output_type": "stream",
     "text": [
      "<class 'pandas.core.frame.DataFrame'>\n",
      "RangeIndex: 5000 entries, 0 to 4999\n",
      "Data columns (total 5 columns):\n",
      " #   Column              Non-Null Count  Dtype  \n",
      "---  ------              --------------  -----  \n",
      " 0   gender              5000 non-null   int64  \n",
      " 1   age                 5000 non-null   float64\n",
      " 2   income              5000 non-null   float64\n",
      " 3   family_members      5000 non-null   int64  \n",
      " 4   insurance_benefits  5000 non-null   int64  \n",
      "dtypes: float64(2), int64(3)\n",
      "memory usage: 195.4 KB\n"
     ]
    }
   ],
   "source": [
    "df.info()"
   ]
  },
  {
   "cell_type": "code",
   "execution_count": 10,
   "metadata": {},
   "outputs": [],
   "source": [
    "# puede que queramos cambiar el tipo de edad (de float a int) aunque esto no es crucial\n",
    "\n",
    "# escribe tu conversión aquí si lo deseas:\n",
    "df['age'] = df['age'].astype('int32')"
   ]
  },
  {
   "cell_type": "code",
   "execution_count": 11,
   "metadata": {},
   "outputs": [
    {
     "name": "stdout",
     "output_type": "stream",
     "text": [
      "<class 'pandas.core.frame.DataFrame'>\n",
      "RangeIndex: 5000 entries, 0 to 4999\n",
      "Data columns (total 5 columns):\n",
      " #   Column              Non-Null Count  Dtype  \n",
      "---  ------              --------------  -----  \n",
      " 0   gender              5000 non-null   int64  \n",
      " 1   age                 5000 non-null   int32  \n",
      " 2   income              5000 non-null   float64\n",
      " 3   family_members      5000 non-null   int64  \n",
      " 4   insurance_benefits  5000 non-null   int64  \n",
      "dtypes: float64(1), int32(1), int64(3)\n",
      "memory usage: 175.9 KB\n"
     ]
    }
   ],
   "source": [
    "# comprueba que la conversión se haya realizado con éxito\n",
    "df.info()"
   ]
  },
  {
   "cell_type": "code",
   "execution_count": 12,
   "metadata": {},
   "outputs": [],
   "source": [
    "# ahora echa un vistazo a las estadísticas descriptivas de los datos.# ¿Se ve todo bien?"
   ]
  },
  {
   "cell_type": "code",
   "execution_count": 13,
   "metadata": {},
   "outputs": [
    {
     "data": {
      "text/html": [
       "<div>\n",
       "<style scoped>\n",
       "    .dataframe tbody tr th:only-of-type {\n",
       "        vertical-align: middle;\n",
       "    }\n",
       "\n",
       "    .dataframe tbody tr th {\n",
       "        vertical-align: top;\n",
       "    }\n",
       "\n",
       "    .dataframe thead th {\n",
       "        text-align: right;\n",
       "    }\n",
       "</style>\n",
       "<table border=\"1\" class=\"dataframe\">\n",
       "  <thead>\n",
       "    <tr style=\"text-align: right;\">\n",
       "      <th></th>\n",
       "      <th>gender</th>\n",
       "      <th>age</th>\n",
       "      <th>income</th>\n",
       "      <th>family_members</th>\n",
       "      <th>insurance_benefits</th>\n",
       "    </tr>\n",
       "  </thead>\n",
       "  <tbody>\n",
       "    <tr>\n",
       "      <th>count</th>\n",
       "      <td>5000.000000</td>\n",
       "      <td>5000.000000</td>\n",
       "      <td>5000.000000</td>\n",
       "      <td>5000.000000</td>\n",
       "      <td>5000.000000</td>\n",
       "    </tr>\n",
       "    <tr>\n",
       "      <th>mean</th>\n",
       "      <td>0.499000</td>\n",
       "      <td>30.952800</td>\n",
       "      <td>39916.360000</td>\n",
       "      <td>1.194200</td>\n",
       "      <td>0.148000</td>\n",
       "    </tr>\n",
       "    <tr>\n",
       "      <th>std</th>\n",
       "      <td>0.500049</td>\n",
       "      <td>8.440807</td>\n",
       "      <td>9900.083569</td>\n",
       "      <td>1.091387</td>\n",
       "      <td>0.463183</td>\n",
       "    </tr>\n",
       "    <tr>\n",
       "      <th>min</th>\n",
       "      <td>0.000000</td>\n",
       "      <td>18.000000</td>\n",
       "      <td>5300.000000</td>\n",
       "      <td>0.000000</td>\n",
       "      <td>0.000000</td>\n",
       "    </tr>\n",
       "    <tr>\n",
       "      <th>25%</th>\n",
       "      <td>0.000000</td>\n",
       "      <td>24.000000</td>\n",
       "      <td>33300.000000</td>\n",
       "      <td>0.000000</td>\n",
       "      <td>0.000000</td>\n",
       "    </tr>\n",
       "    <tr>\n",
       "      <th>50%</th>\n",
       "      <td>0.000000</td>\n",
       "      <td>30.000000</td>\n",
       "      <td>40200.000000</td>\n",
       "      <td>1.000000</td>\n",
       "      <td>0.000000</td>\n",
       "    </tr>\n",
       "    <tr>\n",
       "      <th>75%</th>\n",
       "      <td>1.000000</td>\n",
       "      <td>37.000000</td>\n",
       "      <td>46600.000000</td>\n",
       "      <td>2.000000</td>\n",
       "      <td>0.000000</td>\n",
       "    </tr>\n",
       "    <tr>\n",
       "      <th>max</th>\n",
       "      <td>1.000000</td>\n",
       "      <td>65.000000</td>\n",
       "      <td>79000.000000</td>\n",
       "      <td>6.000000</td>\n",
       "      <td>5.000000</td>\n",
       "    </tr>\n",
       "  </tbody>\n",
       "</table>\n",
       "</div>"
      ],
      "text/plain": [
       "            gender          age        income  family_members  \\\n",
       "count  5000.000000  5000.000000   5000.000000     5000.000000   \n",
       "mean      0.499000    30.952800  39916.360000        1.194200   \n",
       "std       0.500049     8.440807   9900.083569        1.091387   \n",
       "min       0.000000    18.000000   5300.000000        0.000000   \n",
       "25%       0.000000    24.000000  33300.000000        0.000000   \n",
       "50%       0.000000    30.000000  40200.000000        1.000000   \n",
       "75%       1.000000    37.000000  46600.000000        2.000000   \n",
       "max       1.000000    65.000000  79000.000000        6.000000   \n",
       "\n",
       "       insurance_benefits  \n",
       "count         5000.000000  \n",
       "mean             0.148000  \n",
       "std              0.463183  \n",
       "min              0.000000  \n",
       "25%              0.000000  \n",
       "50%              0.000000  \n",
       "75%              0.000000  \n",
       "max              5.000000  "
      ]
     },
     "execution_count": 13,
     "metadata": {},
     "output_type": "execute_result"
    }
   ],
   "source": [
    "df.describe()"
   ]
  },
  {
   "cell_type": "code",
   "execution_count": 14,
   "metadata": {},
   "outputs": [],
   "source": [
    "#Todo ok."
   ]
  },
  {
   "cell_type": "markdown",
   "metadata": {},
   "source": [
    "<div class=\"alert alert-block alert-success\">\n",
    "<b>Comentario del revisor (1ra Iteracion)</b> <a class=“tocSkip”></a>\n",
    "\n",
    "Buen uso de los métodos para esta exploración inicial\n",
    "</div>"
   ]
  },
  {
   "cell_type": "markdown",
   "metadata": {},
   "source": [
    "## Análisis exploratorio de datos"
   ]
  },
  {
   "cell_type": "markdown",
   "metadata": {},
   "source": [
    "Vamos a comprobar rápidamente si existen determinados grupos de clientes observando el gráfico de pares."
   ]
  },
  {
   "cell_type": "code",
   "execution_count": 15,
   "metadata": {},
   "outputs": [
    {
     "data": {
      "image/png": "[encoded data removed]",
      "text/plain": [
       "<Figure size 1200x1200 with 30 Axes>"
      ]
     },
     "metadata": {},
     "output_type": "display_data"
    }
   ],
   "source": [
    "g = sns.pairplot(df, kind='hist')\n",
    "g.fig.set_size_inches(12, 12)"
   ]
  },
  {
   "cell_type": "markdown",
   "metadata": {},
   "source": [
    "De acuerdo, es un poco complicado detectar grupos obvios (clústeres) ya que es difícil combinar diversas variables simultáneamente (para analizar distribuciones multivariadas). Ahí es donde LA y ML pueden ser bastante útiles."
   ]
  },
  {
   "cell_type": "markdown",
   "metadata": {},
   "source": [
    "<div class=\"alert alert-block alert-success\">\n",
    "<b>Comentario del revisor (1ra Iteracion)</b> <a class=“tocSkip”></a>\n",
    "\n",
    "Perfecto! Usaste la gráfica adecuada para revisar los datos\n",
    "</div>"
   ]
  },
  {
   "cell_type": "markdown",
   "metadata": {},
   "source": [
    "# Tarea 1. Clientes similares"
   ]
  },
  {
   "cell_type": "markdown",
   "metadata": {},
   "source": [
    "En el lenguaje de ML, es necesario desarrollar un procedimiento que devuelva los k vecinos más cercanos (objetos) para un objeto dado basándose en la distancia entre los objetos.\n",
    "Es posible que quieras revisar las siguientes lecciones (capítulo -> lección)- Distancia entre vectores -> Distancia euclidiana\n",
    "- Distancia entre vectores -> Distancia Manhattan\n",
    "\n",
    "Para resolver la tarea, podemos probar diferentes métricas de distancia."
   ]
  },
  {
   "cell_type": "markdown",
   "metadata": {},
   "source": [
    "Escribe una función que devuelva los k vecinos más cercanos para un $n^{th}$ objeto basándose en una métrica de distancia especificada. A la hora de realizar esta tarea no debe tenerse en cuenta el número de prestaciones de seguro recibidas.\n",
    "Puedes utilizar una implementación ya existente del algoritmo kNN de scikit-learn (consulta [el enlace](https://scikit-learn.org/stable/modules/generated/sklearn.neighbors.NearestNeighbors.html#sklearn.neighbors.NearestNeighbors)) o tu propia implementación.\n",
    "Pruébalo para cuatro combinaciones de dos casos- Escalado\n",
    "  - los datos no están escalados\n",
    "  - los datos se escalan con el escalador [MaxAbsScaler](https://scikit-learn.org/stable/modules/generated/sklearn.preprocessing.MaxAbsScaler.html)\n",
    "- Métricas de distancia\n",
    "  - Euclidiana\n",
    "  - Manhattan\n",
    "\n",
    "Responde a estas preguntas:- ¿El hecho de que los datos no estén escalados afecta al algoritmo kNN? Si es así, ¿cómo se manifiesta?- ¿Qué tan similares son los resultados al utilizar la métrica de distancia Manhattan (independientemente del escalado)?"
   ]
  },
  {
   "cell_type": "code",
   "execution_count": 16,
   "metadata": {},
   "outputs": [],
   "source": [
    "feature_names = ['gender', 'age', 'income', 'family_members']"
   ]
  },
  {
   "cell_type": "code",
   "execution_count": 17,
   "metadata": {},
   "outputs": [],
   "source": [
    "def get_knn(df, n, k, metric=''):\n",
    "    \n",
    "    \"\"\"\n",
    "    Devuelve los k vecinos más cercanos\n",
    "\n",
    "    :param df: DataFrame de pandas utilizado para encontrar objetos similares dentro del mismo lugar    \n",
    "    :param n: número de objetos para los que se buscan los vecinos más cercanos. Default = 5    \n",
    "    :param k: número de vecinos más cercanos a devolver. Default = 2\n",
    "    :param métrica: nombre de la métrica de distancia    \"\"\"\n",
    "    \n",
    "    nbrs = NearestNeighbors()\n",
    "    nbrs.fit(df[feature_names].values) \n",
    "    \n",
    "    if metric == 'eucl':\n",
    "        \n",
    "        nbrs_indices = nbrs.kneighbors([df.iloc[n][feature_names]], k, return_distance=False)\n",
    "        \n",
    "        list_eucl = []\n",
    "        for x in range(df.iloc[nbrs_indices[0]][feature_names].shape[0]):\n",
    "            d_eucl = distance.euclidean(df.iloc[nbrs_indices[0]][feature_names].values[0],\n",
    "                                        df.iloc[nbrs_indices[0]][feature_names].values[x])\n",
    "            list_eucl.append(d_eucl)\n",
    "            \n",
    "            \n",
    "        vector_eucl = np.array(list_eucl)\n",
    "        df_res = pd.concat([\n",
    "                df.iloc[nbrs_indices[0]],\n",
    "                pd.DataFrame(vector_eucl.T, index=nbrs_indices[0], columns=['euclidian_distance'])\n",
    "            ], axis = 1)\n",
    "        \n",
    "    elif metric == 'man':\n",
    "        \n",
    "        nbrs_indices = nbrs.kneighbors([df.iloc[n][feature_names]], k, return_distance=False)\n",
    "        \n",
    "        list_man = []\n",
    "        for x in range(df.iloc[nbrs_indices[0]][feature_names].shape[0]):\n",
    "            d_man = distance.cityblock(df.iloc[nbrs_indices[0]][feature_names].values[0],\n",
    "                                        df.iloc[nbrs_indices[0]][feature_names].values[x])\n",
    "            list_man.append(d_man)\n",
    "        \n",
    "        vector_man = np.array(list_man)\n",
    "        df_res = pd.concat([\n",
    "                df.iloc[nbrs_indices[0]],\n",
    "                pd.DataFrame(vector_man.T, index=nbrs_indices[0], columns=['manhattan_distance'])\n",
    "            ], axis = 1)\n",
    "        \n",
    "    else:       \n",
    "                \n",
    "        nbrs_distances, nbrs_indices = nbrs.kneighbors([df.iloc[n][feature_names]], k, return_distance=True)\n",
    "        \n",
    "        df_res = pd.concat([\n",
    "            df.iloc[nbrs_indices[0]], \n",
    "            pd.DataFrame(nbrs_distances.T, index=nbrs_indices[0], columns=['distance'])\n",
    "            ], axis=1)\n",
    "    \n",
    "    return df_res"
   ]
  },
  {
   "cell_type": "markdown",
   "metadata": {},
   "source": [
    "<div class=\"alert alert-block alert-success\">\n",
    "<b>Comentario del revisor (1ra Iteracion)</b> <a class=“tocSkip”></a>\n",
    "\n",
    "Buen trabajo con la creación de la función!\n",
    "</div>"
   ]
  },
  {
   "cell_type": "markdown",
   "metadata": {},
   "source": [
    "Escalar datos."
   ]
  },
  {
   "cell_type": "code",
   "execution_count": 18,
   "metadata": {},
   "outputs": [],
   "source": [
    "feature_names = ['gender', 'age', 'income', 'family_members']\n",
    "\n",
    "transformer_mas = sklearn.preprocessing.MaxAbsScaler().fit(df[feature_names].to_numpy())\n",
    "\n",
    "df_scaled = df.copy()\n",
    "df_scaled.loc[:, feature_names] = transformer_mas.transform(df[feature_names].to_numpy())"
   ]
  },
  {
   "cell_type": "code",
   "execution_count": 19,
   "metadata": {},
   "outputs": [
    {
     "data": {
      "text/html": [
       "<div>\n",
       "<style scoped>\n",
       "    .dataframe tbody tr th:only-of-type {\n",
       "        vertical-align: middle;\n",
       "    }\n",
       "\n",
       "    .dataframe tbody tr th {\n",
       "        vertical-align: top;\n",
       "    }\n",
       "\n",
       "    .dataframe thead th {\n",
       "        text-align: right;\n",
       "    }\n",
       "</style>\n",
       "<table border=\"1\" class=\"dataframe\">\n",
       "  <thead>\n",
       "    <tr style=\"text-align: right;\">\n",
       "      <th></th>\n",
       "      <th>gender</th>\n",
       "      <th>age</th>\n",
       "      <th>income</th>\n",
       "      <th>family_members</th>\n",
       "      <th>insurance_benefits</th>\n",
       "    </tr>\n",
       "  </thead>\n",
       "  <tbody>\n",
       "    <tr>\n",
       "      <th>3566</th>\n",
       "      <td>0.0</td>\n",
       "      <td>0.676923</td>\n",
       "      <td>0.565823</td>\n",
       "      <td>0.500000</td>\n",
       "      <td>1</td>\n",
       "    </tr>\n",
       "    <tr>\n",
       "      <th>1264</th>\n",
       "      <td>1.0</td>\n",
       "      <td>0.400000</td>\n",
       "      <td>0.429114</td>\n",
       "      <td>0.166667</td>\n",
       "      <td>0</td>\n",
       "    </tr>\n",
       "    <tr>\n",
       "      <th>2023</th>\n",
       "      <td>1.0</td>\n",
       "      <td>0.523077</td>\n",
       "      <td>0.643038</td>\n",
       "      <td>0.000000</td>\n",
       "      <td>0</td>\n",
       "    </tr>\n",
       "    <tr>\n",
       "      <th>4221</th>\n",
       "      <td>1.0</td>\n",
       "      <td>0.600000</td>\n",
       "      <td>0.663291</td>\n",
       "      <td>0.000000</td>\n",
       "      <td>0</td>\n",
       "    </tr>\n",
       "    <tr>\n",
       "      <th>3706</th>\n",
       "      <td>1.0</td>\n",
       "      <td>0.584615</td>\n",
       "      <td>0.477215</td>\n",
       "      <td>0.333333</td>\n",
       "      <td>0</td>\n",
       "    </tr>\n",
       "  </tbody>\n",
       "</table>\n",
       "</div>"
      ],
      "text/plain": [
       "      gender       age    income  family_members  insurance_benefits\n",
       "3566     0.0  0.676923  0.565823        0.500000                   1\n",
       "1264     1.0  0.400000  0.429114        0.166667                   0\n",
       "2023     1.0  0.523077  0.643038        0.000000                   0\n",
       "4221     1.0  0.600000  0.663291        0.000000                   0\n",
       "3706     1.0  0.584615  0.477215        0.333333                   0"
      ]
     },
     "execution_count": 19,
     "metadata": {},
     "output_type": "execute_result"
    }
   ],
   "source": [
    "df_scaled.sample(5)"
   ]
  },
  {
   "cell_type": "markdown",
   "metadata": {},
   "source": [
    "Ahora, vamos a obtener registros similares para uno determinado, para cada combinación"
   ]
  },
  {
   "cell_type": "code",
   "execution_count": 20,
   "metadata": {},
   "outputs": [
    {
     "data": {
      "text/html": [
       "<div>\n",
       "<style scoped>\n",
       "    .dataframe tbody tr th:only-of-type {\n",
       "        vertical-align: middle;\n",
       "    }\n",
       "\n",
       "    .dataframe tbody tr th {\n",
       "        vertical-align: top;\n",
       "    }\n",
       "\n",
       "    .dataframe thead th {\n",
       "        text-align: right;\n",
       "    }\n",
       "</style>\n",
       "<table border=\"1\" class=\"dataframe\">\n",
       "  <thead>\n",
       "    <tr style=\"text-align: right;\">\n",
       "      <th></th>\n",
       "      <th>gender</th>\n",
       "      <th>age</th>\n",
       "      <th>income</th>\n",
       "      <th>family_members</th>\n",
       "      <th>insurance_benefits</th>\n",
       "      <th>distance</th>\n",
       "    </tr>\n",
       "  </thead>\n",
       "  <tbody>\n",
       "    <tr>\n",
       "      <th>7</th>\n",
       "      <td>1</td>\n",
       "      <td>25</td>\n",
       "      <td>38600.0</td>\n",
       "      <td>4</td>\n",
       "      <td>0</td>\n",
       "      <td>0.000000</td>\n",
       "    </tr>\n",
       "    <tr>\n",
       "      <th>3911</th>\n",
       "      <td>0</td>\n",
       "      <td>23</td>\n",
       "      <td>38600.0</td>\n",
       "      <td>2</td>\n",
       "      <td>0</td>\n",
       "      <td>3.000000</td>\n",
       "    </tr>\n",
       "    <tr>\n",
       "      <th>4505</th>\n",
       "      <td>1</td>\n",
       "      <td>22</td>\n",
       "      <td>38600.0</td>\n",
       "      <td>3</td>\n",
       "      <td>0</td>\n",
       "      <td>3.162278</td>\n",
       "    </tr>\n",
       "    <tr>\n",
       "      <th>2637</th>\n",
       "      <td>1</td>\n",
       "      <td>22</td>\n",
       "      <td>38600.0</td>\n",
       "      <td>1</td>\n",
       "      <td>0</td>\n",
       "      <td>4.242641</td>\n",
       "    </tr>\n",
       "    <tr>\n",
       "      <th>1649</th>\n",
       "      <td>0</td>\n",
       "      <td>29</td>\n",
       "      <td>38600.0</td>\n",
       "      <td>3</td>\n",
       "      <td>0</td>\n",
       "      <td>4.242641</td>\n",
       "    </tr>\n",
       "    <tr>\n",
       "      <th>1357</th>\n",
       "      <td>0</td>\n",
       "      <td>29</td>\n",
       "      <td>38600.0</td>\n",
       "      <td>2</td>\n",
       "      <td>0</td>\n",
       "      <td>4.582576</td>\n",
       "    </tr>\n",
       "    <tr>\n",
       "      <th>3902</th>\n",
       "      <td>1</td>\n",
       "      <td>21</td>\n",
       "      <td>38600.0</td>\n",
       "      <td>1</td>\n",
       "      <td>0</td>\n",
       "      <td>5.000000</td>\n",
       "    </tr>\n",
       "    <tr>\n",
       "      <th>344</th>\n",
       "      <td>0</td>\n",
       "      <td>28</td>\n",
       "      <td>38600.0</td>\n",
       "      <td>0</td>\n",
       "      <td>0</td>\n",
       "      <td>5.099020</td>\n",
       "    </tr>\n",
       "  </tbody>\n",
       "</table>\n",
       "</div>"
      ],
      "text/plain": [
       "      gender  age   income  family_members  insurance_benefits  distance\n",
       "7          1   25  38600.0               4                   0  0.000000\n",
       "3911       0   23  38600.0               2                   0  3.000000\n",
       "4505       1   22  38600.0               3                   0  3.162278\n",
       "2637       1   22  38600.0               1                   0  4.242641\n",
       "1649       0   29  38600.0               3                   0  4.242641\n",
       "1357       0   29  38600.0               2                   0  4.582576\n",
       "3902       1   21  38600.0               1                   0  5.000000\n",
       "344        0   28  38600.0               0                   0  5.099020"
      ]
     },
     "execution_count": 20,
     "metadata": {},
     "output_type": "execute_result"
    }
   ],
   "source": [
    "get_knn(df,7,8,metric='')"
   ]
  },
  {
   "cell_type": "code",
   "execution_count": 21,
   "metadata": {},
   "outputs": [
    {
     "data": {
      "text/html": [
       "<div>\n",
       "<style scoped>\n",
       "    .dataframe tbody tr th:only-of-type {\n",
       "        vertical-align: middle;\n",
       "    }\n",
       "\n",
       "    .dataframe tbody tr th {\n",
       "        vertical-align: top;\n",
       "    }\n",
       "\n",
       "    .dataframe thead th {\n",
       "        text-align: right;\n",
       "    }\n",
       "</style>\n",
       "<table border=\"1\" class=\"dataframe\">\n",
       "  <thead>\n",
       "    <tr style=\"text-align: right;\">\n",
       "      <th></th>\n",
       "      <th>gender</th>\n",
       "      <th>age</th>\n",
       "      <th>income</th>\n",
       "      <th>family_members</th>\n",
       "      <th>insurance_benefits</th>\n",
       "      <th>distance</th>\n",
       "    </tr>\n",
       "  </thead>\n",
       "  <tbody>\n",
       "    <tr>\n",
       "      <th>7</th>\n",
       "      <td>1.0</td>\n",
       "      <td>0.384615</td>\n",
       "      <td>0.488608</td>\n",
       "      <td>0.666667</td>\n",
       "      <td>0</td>\n",
       "      <td>0.000000</td>\n",
       "    </tr>\n",
       "    <tr>\n",
       "      <th>4303</th>\n",
       "      <td>1.0</td>\n",
       "      <td>0.400000</td>\n",
       "      <td>0.467089</td>\n",
       "      <td>0.666667</td>\n",
       "      <td>0</td>\n",
       "      <td>0.026453</td>\n",
       "    </tr>\n",
       "    <tr>\n",
       "      <th>296</th>\n",
       "      <td>1.0</td>\n",
       "      <td>0.400000</td>\n",
       "      <td>0.513924</td>\n",
       "      <td>0.666667</td>\n",
       "      <td>0</td>\n",
       "      <td>0.029624</td>\n",
       "    </tr>\n",
       "    <tr>\n",
       "      <th>2797</th>\n",
       "      <td>1.0</td>\n",
       "      <td>0.384615</td>\n",
       "      <td>0.454430</td>\n",
       "      <td>0.666667</td>\n",
       "      <td>0</td>\n",
       "      <td>0.034177</td>\n",
       "    </tr>\n",
       "    <tr>\n",
       "      <th>3350</th>\n",
       "      <td>1.0</td>\n",
       "      <td>0.338462</td>\n",
       "      <td>0.491139</td>\n",
       "      <td>0.666667</td>\n",
       "      <td>0</td>\n",
       "      <td>0.046223</td>\n",
       "    </tr>\n",
       "    <tr>\n",
       "      <th>3272</th>\n",
       "      <td>1.0</td>\n",
       "      <td>0.415385</td>\n",
       "      <td>0.440506</td>\n",
       "      <td>0.666667</td>\n",
       "      <td>0</td>\n",
       "      <td>0.057101</td>\n",
       "    </tr>\n",
       "    <tr>\n",
       "      <th>1781</th>\n",
       "      <td>1.0</td>\n",
       "      <td>0.369231</td>\n",
       "      <td>0.550633</td>\n",
       "      <td>0.666667</td>\n",
       "      <td>0</td>\n",
       "      <td>0.063905</td>\n",
       "    </tr>\n",
       "    <tr>\n",
       "      <th>4326</th>\n",
       "      <td>1.0</td>\n",
       "      <td>0.446154</td>\n",
       "      <td>0.456962</td>\n",
       "      <td>0.666667</td>\n",
       "      <td>0</td>\n",
       "      <td>0.069198</td>\n",
       "    </tr>\n",
       "  </tbody>\n",
       "</table>\n",
       "</div>"
      ],
      "text/plain": [
       "      gender       age    income  family_members  insurance_benefits  distance\n",
       "7        1.0  0.384615  0.488608        0.666667                   0  0.000000\n",
       "4303     1.0  0.400000  0.467089        0.666667                   0  0.026453\n",
       "296      1.0  0.400000  0.513924        0.666667                   0  0.029624\n",
       "2797     1.0  0.384615  0.454430        0.666667                   0  0.034177\n",
       "3350     1.0  0.338462  0.491139        0.666667                   0  0.046223\n",
       "3272     1.0  0.415385  0.440506        0.666667                   0  0.057101\n",
       "1781     1.0  0.369231  0.550633        0.666667                   0  0.063905\n",
       "4326     1.0  0.446154  0.456962        0.666667                   0  0.069198"
      ]
     },
     "execution_count": 21,
     "metadata": {},
     "output_type": "execute_result"
    }
   ],
   "source": [
    "get_knn(df_scaled,7,8,metric='')"
   ]
  },
  {
   "cell_type": "code",
   "execution_count": 22,
   "metadata": {},
   "outputs": [
    {
     "data": {
      "text/html": [
       "<div>\n",
       "<style scoped>\n",
       "    .dataframe tbody tr th:only-of-type {\n",
       "        vertical-align: middle;\n",
       "    }\n",
       "\n",
       "    .dataframe tbody tr th {\n",
       "        vertical-align: top;\n",
       "    }\n",
       "\n",
       "    .dataframe thead th {\n",
       "        text-align: right;\n",
       "    }\n",
       "</style>\n",
       "<table border=\"1\" class=\"dataframe\">\n",
       "  <thead>\n",
       "    <tr style=\"text-align: right;\">\n",
       "      <th></th>\n",
       "      <th>gender</th>\n",
       "      <th>age</th>\n",
       "      <th>income</th>\n",
       "      <th>family_members</th>\n",
       "      <th>insurance_benefits</th>\n",
       "      <th>euclidian_distance</th>\n",
       "    </tr>\n",
       "  </thead>\n",
       "  <tbody>\n",
       "    <tr>\n",
       "      <th>7</th>\n",
       "      <td>1</td>\n",
       "      <td>25</td>\n",
       "      <td>38600.0</td>\n",
       "      <td>4</td>\n",
       "      <td>0</td>\n",
       "      <td>0.000000</td>\n",
       "    </tr>\n",
       "    <tr>\n",
       "      <th>3911</th>\n",
       "      <td>0</td>\n",
       "      <td>23</td>\n",
       "      <td>38600.0</td>\n",
       "      <td>2</td>\n",
       "      <td>0</td>\n",
       "      <td>3.000000</td>\n",
       "    </tr>\n",
       "    <tr>\n",
       "      <th>4505</th>\n",
       "      <td>1</td>\n",
       "      <td>22</td>\n",
       "      <td>38600.0</td>\n",
       "      <td>3</td>\n",
       "      <td>0</td>\n",
       "      <td>3.162278</td>\n",
       "    </tr>\n",
       "    <tr>\n",
       "      <th>2637</th>\n",
       "      <td>1</td>\n",
       "      <td>22</td>\n",
       "      <td>38600.0</td>\n",
       "      <td>1</td>\n",
       "      <td>0</td>\n",
       "      <td>4.242641</td>\n",
       "    </tr>\n",
       "    <tr>\n",
       "      <th>1649</th>\n",
       "      <td>0</td>\n",
       "      <td>29</td>\n",
       "      <td>38600.0</td>\n",
       "      <td>3</td>\n",
       "      <td>0</td>\n",
       "      <td>4.242641</td>\n",
       "    </tr>\n",
       "    <tr>\n",
       "      <th>1357</th>\n",
       "      <td>0</td>\n",
       "      <td>29</td>\n",
       "      <td>38600.0</td>\n",
       "      <td>2</td>\n",
       "      <td>0</td>\n",
       "      <td>4.582576</td>\n",
       "    </tr>\n",
       "    <tr>\n",
       "      <th>3902</th>\n",
       "      <td>1</td>\n",
       "      <td>21</td>\n",
       "      <td>38600.0</td>\n",
       "      <td>1</td>\n",
       "      <td>0</td>\n",
       "      <td>5.000000</td>\n",
       "    </tr>\n",
       "    <tr>\n",
       "      <th>344</th>\n",
       "      <td>0</td>\n",
       "      <td>28</td>\n",
       "      <td>38600.0</td>\n",
       "      <td>0</td>\n",
       "      <td>0</td>\n",
       "      <td>5.099020</td>\n",
       "    </tr>\n",
       "  </tbody>\n",
       "</table>\n",
       "</div>"
      ],
      "text/plain": [
       "      gender  age   income  family_members  insurance_benefits  \\\n",
       "7          1   25  38600.0               4                   0   \n",
       "3911       0   23  38600.0               2                   0   \n",
       "4505       1   22  38600.0               3                   0   \n",
       "2637       1   22  38600.0               1                   0   \n",
       "1649       0   29  38600.0               3                   0   \n",
       "1357       0   29  38600.0               2                   0   \n",
       "3902       1   21  38600.0               1                   0   \n",
       "344        0   28  38600.0               0                   0   \n",
       "\n",
       "      euclidian_distance  \n",
       "7               0.000000  \n",
       "3911            3.000000  \n",
       "4505            3.162278  \n",
       "2637            4.242641  \n",
       "1649            4.242641  \n",
       "1357            4.582576  \n",
       "3902            5.000000  \n",
       "344             5.099020  "
      ]
     },
     "execution_count": 22,
     "metadata": {},
     "output_type": "execute_result"
    }
   ],
   "source": [
    "get_knn(df,7,8,metric='eucl')"
   ]
  },
  {
   "cell_type": "code",
   "execution_count": 23,
   "metadata": {},
   "outputs": [
    {
     "data": {
      "text/html": [
       "<div>\n",
       "<style scoped>\n",
       "    .dataframe tbody tr th:only-of-type {\n",
       "        vertical-align: middle;\n",
       "    }\n",
       "\n",
       "    .dataframe tbody tr th {\n",
       "        vertical-align: top;\n",
       "    }\n",
       "\n",
       "    .dataframe thead th {\n",
       "        text-align: right;\n",
       "    }\n",
       "</style>\n",
       "<table border=\"1\" class=\"dataframe\">\n",
       "  <thead>\n",
       "    <tr style=\"text-align: right;\">\n",
       "      <th></th>\n",
       "      <th>gender</th>\n",
       "      <th>age</th>\n",
       "      <th>income</th>\n",
       "      <th>family_members</th>\n",
       "      <th>insurance_benefits</th>\n",
       "      <th>manhattan_distance</th>\n",
       "    </tr>\n",
       "  </thead>\n",
       "  <tbody>\n",
       "    <tr>\n",
       "      <th>7</th>\n",
       "      <td>1</td>\n",
       "      <td>25</td>\n",
       "      <td>38600.0</td>\n",
       "      <td>4</td>\n",
       "      <td>0</td>\n",
       "      <td>0.0</td>\n",
       "    </tr>\n",
       "    <tr>\n",
       "      <th>3911</th>\n",
       "      <td>0</td>\n",
       "      <td>23</td>\n",
       "      <td>38600.0</td>\n",
       "      <td>2</td>\n",
       "      <td>0</td>\n",
       "      <td>5.0</td>\n",
       "    </tr>\n",
       "    <tr>\n",
       "      <th>4505</th>\n",
       "      <td>1</td>\n",
       "      <td>22</td>\n",
       "      <td>38600.0</td>\n",
       "      <td>3</td>\n",
       "      <td>0</td>\n",
       "      <td>4.0</td>\n",
       "    </tr>\n",
       "    <tr>\n",
       "      <th>2637</th>\n",
       "      <td>1</td>\n",
       "      <td>22</td>\n",
       "      <td>38600.0</td>\n",
       "      <td>1</td>\n",
       "      <td>0</td>\n",
       "      <td>6.0</td>\n",
       "    </tr>\n",
       "    <tr>\n",
       "      <th>1649</th>\n",
       "      <td>0</td>\n",
       "      <td>29</td>\n",
       "      <td>38600.0</td>\n",
       "      <td>3</td>\n",
       "      <td>0</td>\n",
       "      <td>6.0</td>\n",
       "    </tr>\n",
       "    <tr>\n",
       "      <th>1357</th>\n",
       "      <td>0</td>\n",
       "      <td>29</td>\n",
       "      <td>38600.0</td>\n",
       "      <td>2</td>\n",
       "      <td>0</td>\n",
       "      <td>7.0</td>\n",
       "    </tr>\n",
       "    <tr>\n",
       "      <th>3902</th>\n",
       "      <td>1</td>\n",
       "      <td>21</td>\n",
       "      <td>38600.0</td>\n",
       "      <td>1</td>\n",
       "      <td>0</td>\n",
       "      <td>7.0</td>\n",
       "    </tr>\n",
       "    <tr>\n",
       "      <th>344</th>\n",
       "      <td>0</td>\n",
       "      <td>28</td>\n",
       "      <td>38600.0</td>\n",
       "      <td>0</td>\n",
       "      <td>0</td>\n",
       "      <td>8.0</td>\n",
       "    </tr>\n",
       "  </tbody>\n",
       "</table>\n",
       "</div>"
      ],
      "text/plain": [
       "      gender  age   income  family_members  insurance_benefits  \\\n",
       "7          1   25  38600.0               4                   0   \n",
       "3911       0   23  38600.0               2                   0   \n",
       "4505       1   22  38600.0               3                   0   \n",
       "2637       1   22  38600.0               1                   0   \n",
       "1649       0   29  38600.0               3                   0   \n",
       "1357       0   29  38600.0               2                   0   \n",
       "3902       1   21  38600.0               1                   0   \n",
       "344        0   28  38600.0               0                   0   \n",
       "\n",
       "      manhattan_distance  \n",
       "7                    0.0  \n",
       "3911                 5.0  \n",
       "4505                 4.0  \n",
       "2637                 6.0  \n",
       "1649                 6.0  \n",
       "1357                 7.0  \n",
       "3902                 7.0  \n",
       "344                  8.0  "
      ]
     },
     "execution_count": 23,
     "metadata": {},
     "output_type": "execute_result"
    }
   ],
   "source": [
    "get_knn(df,7,8,metric='man')"
   ]
  },
  {
   "cell_type": "markdown",
   "metadata": {},
   "source": [
    "Respuestas a las preguntas"
   ]
  },
  {
   "cell_type": "markdown",
   "metadata": {},
   "source": [
    "**¿El hecho de que los datos no estén escalados afecta al algoritmo kNN? Si es así, ¿cómo se manifiesta?** \n",
    "\n",
    "Sí, afecta, ya que al calcular KNN con los datos escalados y usando los mismos parámetros, las características y distancias cambiaron en comparación con los datos sin escalar."
   ]
  },
  {
   "cell_type": "markdown",
   "metadata": {},
   "source": [
    "**¿Qué tan similares son los resultados al utilizar la métrica de distancia Manhattan (independientemente del escalado)?** \n",
    "\n",
    "Los datos son similares, solo que en la distancia Manhattan las distnacias son más largas.\n",
    "\n",
    "\n",
    "Las observaciones que hay es que en el índice 3 911, aplicando la distancia euclidiana, la distancia es menor que el índice 4 505 y en la distancia Manhattan es mayor.\n",
    "\n",
    "Otra observación es que los índices 1 357 y 3 902 calculados con la distancis auclidiana se encuentran en diferentes distancias a diferencia de la Manhattan que están a la misma."
   ]
  },
  {
   "cell_type": "markdown",
   "metadata": {},
   "source": [
    "<div class=\"alert alert-block alert-success\">\n",
    "<b>Comentario del revisor (1ra Iteracion)</b> <a class=“tocSkip”></a>\n",
    "\n",
    "Excelente observación! Efectivamente con un escalamiento los modelos pueden ser más precisos ya que estos en base a las cantidades realizan las predicciones por lo que en ciertos casos el tener valores muy distantes causará que le de más peso a una feature que al resto\n",
    "</div>"
   ]
  },
  {
   "cell_type": "markdown",
   "metadata": {},
   "source": [
    "# Tarea 2. ¿Es probable que el cliente reciba una prestación del seguro?"
   ]
  },
  {
   "cell_type": "markdown",
   "metadata": {},
   "source": [
    "En términos de machine learning podemos considerarlo como una tarea de clasificación binaria."
   ]
  },
  {
   "cell_type": "markdown",
   "metadata": {},
   "source": [
    "Con el valor de `insurance_benefits` superior a cero como objetivo, evalúa si el enfoque de clasificación kNN puede funcionar mejor que el modelo dummy.\n",
    "Instrucciones:\n",
    "- Construye un clasificador basado en KNN y mide su calidad con la métrica F1 para k=1...10 tanto para los datos originales como para los escalados. Sería interesante observar cómo k puede influir en la métrica de evaluación y si el escalado de los datos provoca alguna diferencia. Puedes utilizar una implementación ya existente del algoritmo de clasificación kNN de scikit-learn (consulta [el enlace](https://scikit-learn.org/stable/modules/generated/sklearn.neighbors.KNeighborsClassifier.html)) o tu propia implementación.- Construye un modelo dummy que, en este caso, es simplemente un modelo aleatorio. Debería devolver \"1\" con cierta probabilidad. Probemos el modelo con cuatro valores de probabilidad: 0, la probabilidad de pagar cualquier prestación del seguro, 0.5, 1.\n",
    "La probabilidad de pagar cualquier prestación del seguro puede definirse como\n",
    "$$\n",
    "P\\{\\text{prestación de seguro recibida}\\}=\\frac{\\text{número de clientes que han recibido alguna prestación de seguro}}{\\text{número total de clientes}}.\n",
    "$$\n",
    "\n",
    "Divide todos los datos correspondientes a las etapas de entrenamiento/prueba respetando la proporción 70:30."
   ]
  },
  {
   "cell_type": "code",
   "execution_count": 24,
   "metadata": {},
   "outputs": [],
   "source": [
    "# сalcula el objetivo\n",
    "df['insurance_benefits_received'] = df['insurance_benefits'].sum() / len(df)\n"
   ]
  },
  {
   "cell_type": "code",
   "execution_count": 25,
   "metadata": {},
   "outputs": [
    {
     "data": {
      "text/plain": [
       "0       0.148\n",
       "1       0.148\n",
       "2       0.148\n",
       "3       0.148\n",
       "4       0.148\n",
       "        ...  \n",
       "4995    0.148\n",
       "4996    0.148\n",
       "4997    0.148\n",
       "4998    0.148\n",
       "4999    0.148\n",
       "Name: insurance_benefits_received, Length: 5000, dtype: float64"
      ]
     },
     "execution_count": 25,
     "metadata": {},
     "output_type": "execute_result"
    }
   ],
   "source": [
    "df['insurance_benefits_received']"
   ]
  },
  {
   "cell_type": "code",
   "execution_count": 26,
   "metadata": {},
   "outputs": [
    {
     "data": {
      "text/html": [
       "<div>\n",
       "<style scoped>\n",
       "    .dataframe tbody tr th:only-of-type {\n",
       "        vertical-align: middle;\n",
       "    }\n",
       "\n",
       "    .dataframe tbody tr th {\n",
       "        vertical-align: top;\n",
       "    }\n",
       "\n",
       "    .dataframe thead th {\n",
       "        text-align: right;\n",
       "    }\n",
       "</style>\n",
       "<table border=\"1\" class=\"dataframe\">\n",
       "  <thead>\n",
       "    <tr style=\"text-align: right;\">\n",
       "      <th></th>\n",
       "      <th>gender</th>\n",
       "      <th>age</th>\n",
       "      <th>income</th>\n",
       "      <th>family_members</th>\n",
       "      <th>insurance_benefits</th>\n",
       "      <th>insurance_benefits_received</th>\n",
       "    </tr>\n",
       "  </thead>\n",
       "  <tbody>\n",
       "    <tr>\n",
       "      <th>0</th>\n",
       "      <td>1</td>\n",
       "      <td>41</td>\n",
       "      <td>49600.0</td>\n",
       "      <td>1</td>\n",
       "      <td>0</td>\n",
       "      <td>0.148</td>\n",
       "    </tr>\n",
       "    <tr>\n",
       "      <th>1</th>\n",
       "      <td>0</td>\n",
       "      <td>46</td>\n",
       "      <td>38000.0</td>\n",
       "      <td>1</td>\n",
       "      <td>1</td>\n",
       "      <td>0.148</td>\n",
       "    </tr>\n",
       "    <tr>\n",
       "      <th>2</th>\n",
       "      <td>0</td>\n",
       "      <td>29</td>\n",
       "      <td>21000.0</td>\n",
       "      <td>0</td>\n",
       "      <td>0</td>\n",
       "      <td>0.148</td>\n",
       "    </tr>\n",
       "    <tr>\n",
       "      <th>3</th>\n",
       "      <td>0</td>\n",
       "      <td>21</td>\n",
       "      <td>41700.0</td>\n",
       "      <td>2</td>\n",
       "      <td>0</td>\n",
       "      <td>0.148</td>\n",
       "    </tr>\n",
       "    <tr>\n",
       "      <th>4</th>\n",
       "      <td>1</td>\n",
       "      <td>28</td>\n",
       "      <td>26100.0</td>\n",
       "      <td>0</td>\n",
       "      <td>0</td>\n",
       "      <td>0.148</td>\n",
       "    </tr>\n",
       "    <tr>\n",
       "      <th>...</th>\n",
       "      <td>...</td>\n",
       "      <td>...</td>\n",
       "      <td>...</td>\n",
       "      <td>...</td>\n",
       "      <td>...</td>\n",
       "      <td>...</td>\n",
       "    </tr>\n",
       "    <tr>\n",
       "      <th>4995</th>\n",
       "      <td>0</td>\n",
       "      <td>28</td>\n",
       "      <td>35700.0</td>\n",
       "      <td>2</td>\n",
       "      <td>0</td>\n",
       "      <td>0.148</td>\n",
       "    </tr>\n",
       "    <tr>\n",
       "      <th>4996</th>\n",
       "      <td>0</td>\n",
       "      <td>34</td>\n",
       "      <td>52400.0</td>\n",
       "      <td>1</td>\n",
       "      <td>0</td>\n",
       "      <td>0.148</td>\n",
       "    </tr>\n",
       "    <tr>\n",
       "      <th>4997</th>\n",
       "      <td>0</td>\n",
       "      <td>20</td>\n",
       "      <td>33900.0</td>\n",
       "      <td>2</td>\n",
       "      <td>0</td>\n",
       "      <td>0.148</td>\n",
       "    </tr>\n",
       "    <tr>\n",
       "      <th>4998</th>\n",
       "      <td>1</td>\n",
       "      <td>22</td>\n",
       "      <td>32700.0</td>\n",
       "      <td>3</td>\n",
       "      <td>0</td>\n",
       "      <td>0.148</td>\n",
       "    </tr>\n",
       "    <tr>\n",
       "      <th>4999</th>\n",
       "      <td>1</td>\n",
       "      <td>28</td>\n",
       "      <td>40600.0</td>\n",
       "      <td>1</td>\n",
       "      <td>0</td>\n",
       "      <td>0.148</td>\n",
       "    </tr>\n",
       "  </tbody>\n",
       "</table>\n",
       "<p>5000 rows × 6 columns</p>\n",
       "</div>"
      ],
      "text/plain": [
       "      gender  age   income  family_members  insurance_benefits  \\\n",
       "0          1   41  49600.0               1                   0   \n",
       "1          0   46  38000.0               1                   1   \n",
       "2          0   29  21000.0               0                   0   \n",
       "3          0   21  41700.0               2                   0   \n",
       "4          1   28  26100.0               0                   0   \n",
       "...      ...  ...      ...             ...                 ...   \n",
       "4995       0   28  35700.0               2                   0   \n",
       "4996       0   34  52400.0               1                   0   \n",
       "4997       0   20  33900.0               2                   0   \n",
       "4998       1   22  32700.0               3                   0   \n",
       "4999       1   28  40600.0               1                   0   \n",
       "\n",
       "      insurance_benefits_received  \n",
       "0                           0.148  \n",
       "1                           0.148  \n",
       "2                           0.148  \n",
       "3                           0.148  \n",
       "4                           0.148  \n",
       "...                           ...  \n",
       "4995                        0.148  \n",
       "4996                        0.148  \n",
       "4997                        0.148  \n",
       "4998                        0.148  \n",
       "4999                        0.148  \n",
       "\n",
       "[5000 rows x 6 columns]"
      ]
     },
     "execution_count": 26,
     "metadata": {},
     "output_type": "execute_result"
    }
   ],
   "source": [
    "df"
   ]
  },
  {
   "cell_type": "code",
   "execution_count": 27,
   "metadata": {},
   "outputs": [
    {
     "data": {
      "text/plain": [
       "0       0.148\n",
       "1       0.148\n",
       "2       0.148\n",
       "3       0.148\n",
       "4       0.148\n",
       "        ...  \n",
       "4995    0.148\n",
       "4996    0.148\n",
       "4997    0.148\n",
       "4998    0.148\n",
       "4999    0.148\n",
       "Name: insurance_benefits_received, Length: 5000, dtype: float64"
      ]
     },
     "execution_count": 27,
     "metadata": {},
     "output_type": "execute_result"
    }
   ],
   "source": [
    "df['insurance_benefits_received']"
   ]
  },
  {
   "cell_type": "markdown",
   "metadata": {},
   "source": [
    "<div class=\"alert alert-block alert-danger\">\n",
    "<b>Comentario del revisor (1ra Iteracion)</b> <a class=“tocSkip”></a>\n",
    "\n",
    "Vas por buen camino! Pero como se menciona al inicio de la sección esto debe ser una clasificación binaria, es decir las clases a predecir deben ser 2, en este caso 0 y 1. Te recomiendo usar la librería numpy de la siguiente forma `np.where(df['insurance_benefits'] == 0, 0, 1)` donde algún valor en esa columna tenga valor 0 entonces será 0 y sino se guardará cómo 1.\n",
    "</div>"
   ]
  },
  {
   "cell_type": "code",
   "execution_count": 28,
   "metadata": {},
   "outputs": [
    {
     "name": "stdout",
     "output_type": "stream",
     "text": [
      "0    4436\n",
      "1     423\n",
      "2     115\n",
      "3      18\n",
      "4       7\n",
      "5       1\n",
      "Name: insurance_benefits, dtype: int64\n"
     ]
    },
    {
     "data": {
      "image/png": "[encoded data removed]",
      "text/plain": [
       "<Figure size 640x480 with 1 Axes>"
      ]
     },
     "metadata": {},
     "output_type": "display_data"
    }
   ],
   "source": [
    "# comprueba el desequilibrio de clases con value_counts()\n",
    "\n",
    "# <tu código aquí>\n",
    "print(df['insurance_benefits'].value_counts())\n",
    "df['insurance_benefits'].value_counts().plot(kind='bar',title='Desquelibirio de clases.')\n",
    "plt.show()"
   ]
  },
  {
   "cell_type": "markdown",
   "metadata": {},
   "source": [
    "<div class=\"alert alert-block alert-success\">\n",
    "<b>Comentario del revisor (1ra Iteracion)</b> <a class=“tocSkip”></a>\n",
    "\n",
    "Buen trabajo! Siempre es importante revisar que tan balanceado está el dataset ya que algunos algoritmos de ML son mejores que otros en cuanto a datasets desbalanceados\n",
    "</div>"
   ]
  },
  {
   "cell_type": "code",
   "execution_count": 29,
   "metadata": {},
   "outputs": [],
   "source": [
    "df_train, df_test = train_test_split(df,test_size=.3,random_state=13456)\n",
    "\n",
    "df_scaled_train, df_scaled_test = train_test_split(df_scaled,test_size=.3,random_state=13456)"
   ]
  },
  {
   "cell_type": "code",
   "execution_count": 30,
   "metadata": {},
   "outputs": [],
   "source": [
    "X_train = df_train[feature_names].values\n",
    "y_train = df_train['insurance_benefits'].values\n",
    "\n",
    "X_test = df_test[feature_names].values\n",
    "y_test = df_test['insurance_benefits'].values\n",
    "\n",
    "X_scaled_train = df_scaled_train[feature_names].values\n",
    "y_scaled_train = df_scaled_train['insurance_benefits'].values\n",
    "\n",
    "X_scaled_test = df_scaled_test[feature_names].values\n",
    "y_scaled_test = df_test['insurance_benefits'].values"
   ]
  },
  {
   "cell_type": "code",
   "execution_count": 31,
   "metadata": {},
   "outputs": [],
   "source": [
    "def eval_classifier(y_true, y_pred):\n",
    "\n",
    "    \n",
    "    f1_score = sklearn.metrics.f1_score(y_true, y_pred,average='weighted')\n",
    "    print(f'F1: {f1_score:.2f}')\n",
    "    \n",
    "# si tienes algún problema con la siguiente línea, reinicia el kernel y ejecuta el cuaderno de nuevo    \n",
    "    cm = sklearn.metrics.confusion_matrix(y_true, y_pred, normalize='all')\n",
    "    print('Matriz de confusión')\n",
    "    print(cm)"
   ]
  },
  {
   "cell_type": "code",
   "execution_count": 32,
   "metadata": {},
   "outputs": [
    {
     "name": "stdout",
     "output_type": "stream",
     "text": [
      "F1: 0.91\n",
      "Matriz de confusión\n",
      "[[8.75333333e-01 1.06666667e-02 0.00000000e+00 0.00000000e+00\n",
      "  6.66666667e-04]\n",
      " [3.46666667e-02 4.26666667e-02 6.00000000e-03 0.00000000e+00\n",
      "  6.66666667e-04]\n",
      " [8.00000000e-03 1.00000000e-02 4.66666667e-03 0.00000000e+00\n",
      "  0.00000000e+00]\n",
      " [2.00000000e-03 2.66666667e-03 6.66666667e-04 0.00000000e+00\n",
      "  0.00000000e+00]\n",
      " [0.00000000e+00 6.66666667e-04 6.66666667e-04 0.00000000e+00\n",
      "  0.00000000e+00]]\n",
      "F1: 0.87\n",
      "Matriz de confusión\n",
      "[[8.83333333e-01 3.33333333e-03 0.00000000e+00 0.00000000e+00\n",
      "  0.00000000e+00]\n",
      " [6.40000000e-02 1.86666667e-02 1.33333333e-03 0.00000000e+00\n",
      "  0.00000000e+00]\n",
      " [1.86666667e-02 3.33333333e-03 6.66666667e-04 0.00000000e+00\n",
      "  0.00000000e+00]\n",
      " [4.00000000e-03 1.33333333e-03 0.00000000e+00 0.00000000e+00\n",
      "  0.00000000e+00]\n",
      " [6.66666667e-04 6.66666667e-04 0.00000000e+00 0.00000000e+00\n",
      "  0.00000000e+00]]\n",
      "F1: 0.87\n",
      "Matriz de confusión\n",
      "[[8.81333333e-01 5.33333333e-03 0.00000000e+00 0.00000000e+00\n",
      "  0.00000000e+00]\n",
      " [6.40000000e-02 1.86666667e-02 1.33333333e-03 0.00000000e+00\n",
      "  0.00000000e+00]\n",
      " [1.80000000e-02 4.00000000e-03 6.66666667e-04 0.00000000e+00\n",
      "  0.00000000e+00]\n",
      " [4.66666667e-03 6.66666667e-04 0.00000000e+00 0.00000000e+00\n",
      "  0.00000000e+00]\n",
      " [6.66666667e-04 6.66666667e-04 0.00000000e+00 0.00000000e+00\n",
      "  0.00000000e+00]]\n",
      "F1: 0.86\n",
      "Matriz de confusión\n",
      "[[8.86000000e-01 6.66666667e-04 0.00000000e+00 0.00000000e+00\n",
      "  0.00000000e+00]\n",
      " [7.46666667e-02 9.33333333e-03 0.00000000e+00 0.00000000e+00\n",
      "  0.00000000e+00]\n",
      " [2.00000000e-02 2.00000000e-03 6.66666667e-04 0.00000000e+00\n",
      "  0.00000000e+00]\n",
      " [4.66666667e-03 6.66666667e-04 0.00000000e+00 0.00000000e+00\n",
      "  0.00000000e+00]\n",
      " [1.33333333e-03 0.00000000e+00 0.00000000e+00 0.00000000e+00\n",
      "  0.00000000e+00]]\n",
      "F1: 0.85\n",
      "Matriz de confusión\n",
      "[[8.85333333e-01 1.33333333e-03 0.00000000e+00 0.00000000e+00\n",
      "  0.00000000e+00]\n",
      " [7.66666667e-02 7.33333333e-03 0.00000000e+00 0.00000000e+00\n",
      "  0.00000000e+00]\n",
      " [2.20000000e-02 6.66666667e-04 0.00000000e+00 0.00000000e+00\n",
      "  0.00000000e+00]\n",
      " [4.66666667e-03 6.66666667e-04 0.00000000e+00 0.00000000e+00\n",
      "  0.00000000e+00]\n",
      " [1.33333333e-03 0.00000000e+00 0.00000000e+00 0.00000000e+00\n",
      "  0.00000000e+00]]\n",
      "F1: 0.84\n",
      "Matriz de confusión\n",
      "[[8.86666667e-01 0.00000000e+00 0.00000000e+00 0.00000000e+00\n",
      "  0.00000000e+00]\n",
      " [8.13333333e-02 2.66666667e-03 0.00000000e+00 0.00000000e+00\n",
      "  0.00000000e+00]\n",
      " [2.20000000e-02 6.66666667e-04 0.00000000e+00 0.00000000e+00\n",
      "  0.00000000e+00]\n",
      " [4.66666667e-03 6.66666667e-04 0.00000000e+00 0.00000000e+00\n",
      "  0.00000000e+00]\n",
      " [1.33333333e-03 0.00000000e+00 0.00000000e+00 0.00000000e+00\n",
      "  0.00000000e+00]]\n",
      "F1: 0.84\n",
      "Matriz de confusión\n",
      "[[8.86666667e-01 0.00000000e+00 0.00000000e+00 0.00000000e+00\n",
      "  0.00000000e+00]\n",
      " [8.20000000e-02 2.00000000e-03 0.00000000e+00 0.00000000e+00\n",
      "  0.00000000e+00]\n",
      " [2.20000000e-02 6.66666667e-04 0.00000000e+00 0.00000000e+00\n",
      "  0.00000000e+00]\n",
      " [4.66666667e-03 6.66666667e-04 0.00000000e+00 0.00000000e+00\n",
      "  0.00000000e+00]\n",
      " [1.33333333e-03 0.00000000e+00 0.00000000e+00 0.00000000e+00\n",
      "  0.00000000e+00]]\n",
      "F1: 0.84\n",
      "Matriz de confusión\n",
      "[[8.86666667e-01 0.00000000e+00 0.00000000e+00 0.00000000e+00\n",
      "  0.00000000e+00]\n",
      " [8.26666667e-02 1.33333333e-03 0.00000000e+00 0.00000000e+00\n",
      "  0.00000000e+00]\n",
      " [2.20000000e-02 6.66666667e-04 0.00000000e+00 0.00000000e+00\n",
      "  0.00000000e+00]\n",
      " [5.33333333e-03 0.00000000e+00 0.00000000e+00 0.00000000e+00\n",
      "  0.00000000e+00]\n",
      " [1.33333333e-03 0.00000000e+00 0.00000000e+00 0.00000000e+00\n",
      "  0.00000000e+00]]\n",
      "F1: 0.84\n",
      "Matriz de confusión\n",
      "[[8.86666667e-01 0.00000000e+00 0.00000000e+00 0.00000000e+00\n",
      "  0.00000000e+00]\n",
      " [8.20000000e-02 2.00000000e-03 0.00000000e+00 0.00000000e+00\n",
      "  0.00000000e+00]\n",
      " [2.20000000e-02 6.66666667e-04 0.00000000e+00 0.00000000e+00\n",
      "  0.00000000e+00]\n",
      " [5.33333333e-03 0.00000000e+00 0.00000000e+00 0.00000000e+00\n",
      "  0.00000000e+00]\n",
      " [1.33333333e-03 0.00000000e+00 0.00000000e+00 0.00000000e+00\n",
      "  0.00000000e+00]]\n",
      "F1: 0.84\n",
      "Matriz de confusión\n",
      "[[8.86666667e-01 0.00000000e+00 0.00000000e+00 0.00000000e+00\n",
      "  0.00000000e+00]\n",
      " [8.26666667e-02 1.33333333e-03 0.00000000e+00 0.00000000e+00\n",
      "  0.00000000e+00]\n",
      " [2.20000000e-02 6.66666667e-04 0.00000000e+00 0.00000000e+00\n",
      "  0.00000000e+00]\n",
      " [5.33333333e-03 0.00000000e+00 0.00000000e+00 0.00000000e+00\n",
      "  0.00000000e+00]\n",
      " [1.33333333e-03 0.00000000e+00 0.00000000e+00 0.00000000e+00\n",
      "  0.00000000e+00]]\n"
     ]
    }
   ],
   "source": [
    "for k in range(1,11):\n",
    "    model = KNeighborsClassifier(n_neighbors=k)\n",
    "    model.fit(X_train,y_train)\n",
    "    predictions = model.predict(X_test)\n",
    "    eval_classifier(y_test,predictions)"
   ]
  },
  {
   "cell_type": "code",
   "execution_count": 33,
   "metadata": {},
   "outputs": [
    {
     "name": "stdout",
     "output_type": "stream",
     "text": [
      "F1: 0.97\n",
      "Matriz de confusión\n",
      "[[8.82666667e-01 4.00000000e-03 0.00000000e+00 0.00000000e+00\n",
      "  0.00000000e+00 0.00000000e+00]\n",
      " [6.00000000e-03 7.26666667e-02 5.33333333e-03 0.00000000e+00\n",
      "  0.00000000e+00 0.00000000e+00]\n",
      " [0.00000000e+00 5.33333333e-03 1.53333333e-02 2.00000000e-03\n",
      "  0.00000000e+00 0.00000000e+00]\n",
      " [0.00000000e+00 0.00000000e+00 2.66666667e-03 2.66666667e-03\n",
      "  0.00000000e+00 0.00000000e+00]\n",
      " [0.00000000e+00 0.00000000e+00 6.66666667e-04 0.00000000e+00\n",
      "  0.00000000e+00 6.66666667e-04]\n",
      " [0.00000000e+00 0.00000000e+00 0.00000000e+00 0.00000000e+00\n",
      "  0.00000000e+00 0.00000000e+00]]\n",
      "F1: 0.97\n",
      "Matriz de confusión\n",
      "[[8.86000000e-01 6.66666667e-04 0.00000000e+00 0.00000000e+00\n",
      "  0.00000000e+00]\n",
      " [1.06666667e-02 7.13333333e-02 2.00000000e-03 0.00000000e+00\n",
      "  0.00000000e+00]\n",
      " [0.00000000e+00 8.66666667e-03 1.40000000e-02 0.00000000e+00\n",
      "  0.00000000e+00]\n",
      " [0.00000000e+00 6.66666667e-04 4.66666667e-03 0.00000000e+00\n",
      "  0.00000000e+00]\n",
      " [0.00000000e+00 0.00000000e+00 6.66666667e-04 6.66666667e-04\n",
      "  0.00000000e+00]]\n",
      "F1: 0.97\n",
      "Matriz de confusión\n",
      "[[8.85333333e-01 1.33333333e-03 0.00000000e+00 0.00000000e+00\n",
      "  0.00000000e+00]\n",
      " [9.33333333e-03 7.20000000e-02 2.66666667e-03 0.00000000e+00\n",
      "  0.00000000e+00]\n",
      " [0.00000000e+00 5.33333333e-03 1.73333333e-02 0.00000000e+00\n",
      "  0.00000000e+00]\n",
      " [0.00000000e+00 0.00000000e+00 4.66666667e-03 6.66666667e-04\n",
      "  0.00000000e+00]\n",
      " [0.00000000e+00 0.00000000e+00 1.33333333e-03 0.00000000e+00\n",
      "  0.00000000e+00]]\n",
      "F1: 0.97\n",
      "Matriz de confusión\n",
      "[[8.86000000e-01 6.66666667e-04 0.00000000e+00 0.00000000e+00\n",
      "  0.00000000e+00]\n",
      " [1.40000000e-02 6.93333333e-02 6.66666667e-04 0.00000000e+00\n",
      "  0.00000000e+00]\n",
      " [0.00000000e+00 6.66666667e-03 1.60000000e-02 0.00000000e+00\n",
      "  0.00000000e+00]\n",
      " [0.00000000e+00 0.00000000e+00 4.66666667e-03 6.66666667e-04\n",
      "  0.00000000e+00]\n",
      " [0.00000000e+00 0.00000000e+00 1.33333333e-03 0.00000000e+00\n",
      "  0.00000000e+00]]\n",
      "F1: 0.97\n",
      "Matriz de confusión\n",
      "[[0.88533333 0.00133333 0.         0.         0.        ]\n",
      " [0.01066667 0.07333333 0.         0.         0.        ]\n",
      " [0.         0.00733333 0.01533333 0.         0.        ]\n",
      " [0.         0.         0.00533333 0.         0.        ]\n",
      " [0.         0.         0.00133333 0.         0.        ]]\n",
      "F1: 0.97\n",
      "Matriz de confusión\n",
      "[[8.86666667e-01 0.00000000e+00 0.00000000e+00 0.00000000e+00\n",
      "  0.00000000e+00]\n",
      " [1.40000000e-02 7.00000000e-02 0.00000000e+00 0.00000000e+00\n",
      "  0.00000000e+00]\n",
      " [0.00000000e+00 8.66666667e-03 1.40000000e-02 0.00000000e+00\n",
      "  0.00000000e+00]\n",
      " [0.00000000e+00 6.66666667e-04 4.66666667e-03 0.00000000e+00\n",
      "  0.00000000e+00]\n",
      " [0.00000000e+00 0.00000000e+00 1.33333333e-03 0.00000000e+00\n",
      "  0.00000000e+00]]\n",
      "F1: 0.97\n",
      "Matriz de confusión\n",
      "[[8.86666667e-01 0.00000000e+00 0.00000000e+00 0.00000000e+00\n",
      "  0.00000000e+00]\n",
      " [1.06666667e-02 7.33333333e-02 0.00000000e+00 0.00000000e+00\n",
      "  0.00000000e+00]\n",
      " [0.00000000e+00 1.00000000e-02 1.26666667e-02 0.00000000e+00\n",
      "  0.00000000e+00]\n",
      " [0.00000000e+00 6.66666667e-04 4.66666667e-03 0.00000000e+00\n",
      "  0.00000000e+00]\n",
      " [0.00000000e+00 0.00000000e+00 1.33333333e-03 0.00000000e+00\n",
      "  0.00000000e+00]]\n",
      "F1: 0.96\n",
      "Matriz de confusión\n",
      "[[0.88666667 0.         0.         0.         0.        ]\n",
      " [0.01733333 0.06666667 0.         0.         0.        ]\n",
      " [0.         0.01       0.01266667 0.         0.        ]\n",
      " [0.         0.00133333 0.004      0.         0.        ]\n",
      " [0.         0.         0.00133333 0.         0.        ]]\n",
      "F1: 0.96\n",
      "Matriz de confusión\n",
      "[[0.88666667 0.         0.         0.         0.        ]\n",
      " [0.01466667 0.06933333 0.         0.         0.        ]\n",
      " [0.         0.01066667 0.012      0.         0.        ]\n",
      " [0.         0.00133333 0.004      0.         0.        ]\n",
      " [0.         0.         0.00133333 0.         0.        ]]\n",
      "F1: 0.96\n",
      "Matriz de confusión\n",
      "[[0.88666667 0.         0.         0.         0.        ]\n",
      " [0.01866667 0.06533333 0.         0.         0.        ]\n",
      " [0.         0.01266667 0.01       0.         0.        ]\n",
      " [0.         0.00133333 0.004      0.         0.        ]\n",
      " [0.         0.         0.00133333 0.         0.        ]]\n"
     ]
    }
   ],
   "source": [
    "for k in range(1,11):\n",
    "    model = KNeighborsClassifier(n_neighbors=k)\n",
    "    model.fit(X_scaled_train,y_scaled_train)\n",
    "    predictions = model.predict(X_scaled_test)\n",
    "    eval_classifier(y_test,predictions)"
   ]
  },
  {
   "cell_type": "code",
   "execution_count": 34,
   "metadata": {},
   "outputs": [],
   "source": [
    "# generar la salida de un modelo aleatorio\n",
    "\n",
    "def rnd_model_predict(P, size, seed=42):\n",
    "\n",
    "    rng = np.random.default_rng(seed=seed)\n",
    "    return rng.binomial(n=1, p=P, size=size)"
   ]
  },
  {
   "cell_type": "code",
   "execution_count": 35,
   "metadata": {},
   "outputs": [
    {
     "name": "stdout",
     "output_type": "stream",
     "text": [
      "La probabilidad: 0.00\n",
      "F1: 1.00\n",
      "Matriz de confusión\n",
      "[[1.]]\n",
      "\n",
      "La probabilidad: 0.15\n",
      "F1: 0.92\n",
      "Matriz de confusión\n",
      "[[0.8542 0.1458]\n",
      " [0.     0.    ]]\n",
      "\n",
      "La probabilidad: 0.50\n",
      "F1: 0.67\n",
      "Matriz de confusión\n",
      "[[0.509 0.491]\n",
      " [0.    0.   ]]\n",
      "\n",
      "La probabilidad: 1.00\n",
      "F1: 0.00\n",
      "Matriz de confusión\n",
      "[[0. 1.]\n",
      " [0. 0.]]\n",
      "\n"
     ]
    }
   ],
   "source": [
    "for P in [0, df['insurance_benefits_received'].sum() / len(df), 0.5, 1]:\n",
    "\n",
    "    print(f'La probabilidad: {P:.2f}')\n",
    "    \n",
    "    y_pred_rnd = rnd_model_predict(P,size=df['insurance_benefits_received'].shape)\n",
    "    \n",
    "    df['insurance_benefits_received'] = (df['insurance_benefits_received'] >= 0.5).astype(int)\n",
    "    \n",
    "    eval_classifier(df['insurance_benefits_received'], y_pred_rnd)\n",
    "    \n",
    "    print()   "
   ]
  },
  {
   "cell_type": "markdown",
   "metadata": {},
   "source": [
    "<div class=\"alert alert-block alert-warning\">\n",
    "<b>Comentario del revisor (1ra Iteracion)</b> <a class=“tocSkip”></a>\n",
    "\n",
    "El proceso para revisar las métricas es el correcto pero debido a que generaste varias clases al inicio de esta sección pues te está dando valores que no son los esperados\n",
    "</div>"
   ]
  },
  {
   "cell_type": "markdown",
   "metadata": {},
   "source": [
    "# Tarea 3. Regresión (con regresión lineal)"
   ]
  },
  {
   "cell_type": "markdown",
   "metadata": {},
   "source": [
    "Con `insurance_benefits` como objetivo, evalúa cuál sería la RECM de un modelo de regresión lineal."
   ]
  },
  {
   "cell_type": "markdown",
   "metadata": {},
   "source": [
    "Construye tu propia implementación de regresión lineal. Para ello, recuerda cómo está formulada la solución de la tarea de regresión lineal en términos de LA. Comprueba la RECM tanto para los datos originales como para los escalados. ¿Puedes ver alguna diferencia en la RECM con respecto a estos dos casos?\n",
    "\n",
    "Denotemos- $X$: matriz de características; cada fila es un caso, cada columna es una característica, la primera columna está formada por unidades- $y$ — objetivo (un vector)- $\\hat{y}$ — objetivo estimado (un vector)- $w$ — vector de pesos\n",
    "La tarea de regresión lineal en el lenguaje de las matrices puede formularse así:\n",
    "$$\n",
    "y = Xw\n",
    "$$\n",
    "\n",
    "El objetivo de entrenamiento es entonces encontrar esa $w$ w que minimice la distancia L2 (ECM) entre $Xw$ y $y$:\n",
    "\n",
    "$$\n",
    "\\min_w d_2(Xw, y) \\quad \\text{or} \\quad \\min_w \\text{MSE}(Xw, y)\n",
    "$$\n",
    "\n",
    "Parece que hay una solución analítica para lo anteriormente expuesto:\n",
    "$$\n",
    "w = (X^T X)^{-1} X^T y\n",
    "$$\n",
    "\n",
    "La fórmula anterior puede servir para encontrar los pesos $w$ y estos últimos pueden utilizarse para calcular los valores predichos\n",
    "$$\n",
    "\\hat{y} = X_{val}w\n",
    "$$"
   ]
  },
  {
   "cell_type": "markdown",
   "metadata": {},
   "source": [
    "Divide todos los datos correspondientes a las etapas de entrenamiento/prueba respetando la proporción 70:30. Utiliza la métrica RECM para evaluar el modelo."
   ]
  },
  {
   "cell_type": "code",
   "execution_count": 36,
   "metadata": {},
   "outputs": [],
   "source": [
    "class MyLinearRegression:\n",
    "    \n",
    "    def __init__(self):\n",
    "        \n",
    "        self.weights = None\n",
    "    \n",
    "    def fit(self, X, y):\n",
    "        \n",
    "        # añadir las unidades\n",
    "        X2 = np.append(np.ones([len(X), 1]), X, axis=1)\n",
    "        self.weights = np.dot(np.dot(np.linalg.inv(np.dot(X2.T,X2)),X2.T),y)\n",
    "        self.weight = self.weights[0]\n",
    "\n",
    "    def predict(self, X):\n",
    "        \n",
    "        # añadir las unidades\n",
    "        X2 = X\n",
    "        y_pred = np.dot(X2,self.weights[1:]) + self.weight\n",
    "        \n",
    "        return y_pred"
   ]
  },
  {
   "cell_type": "code",
   "execution_count": 37,
   "metadata": {},
   "outputs": [],
   "source": [
    "def eval_regressor(y_true, y_pred):\n",
    "    \n",
    "    rmse = math.sqrt(sklearn.metrics.mean_squared_error(y_true, y_pred))\n",
    "    print(f'RMSE: {rmse:.2f}')\n",
    "    \n",
    "    r2_score = math.sqrt(sklearn.metrics.r2_score(y_true, y_pred))\n",
    "    print(f'R2: {r2_score:.2f}')    "
   ]
  },
  {
   "cell_type": "code",
   "execution_count": 38,
   "metadata": {},
   "outputs": [],
   "source": [
    "model = MyLinearRegression()\n",
    "model.fit(X_train,y_train)"
   ]
  },
  {
   "cell_type": "code",
   "execution_count": 39,
   "metadata": {},
   "outputs": [
    {
     "name": "stdout",
     "output_type": "stream",
     "text": [
      "[-9.43539012e-01  3.57495491e-02  1.64272726e-02 -2.60743659e-07\n",
      " -1.16902127e-02]\n",
      "RMSE: 0.34\n",
      "R2: 0.66\n"
     ]
    }
   ],
   "source": [
    "X = df[['age', 'gender', 'income', 'family_members']].to_numpy()\n",
    "y = df['insurance_benefits'].to_numpy()\n",
    "\n",
    "X_train, X_test, y_train, y_test = train_test_split(X, y, test_size=0.3, random_state=12345)\n",
    "\n",
    "lr = MyLinearRegression()\n",
    "\n",
    "lr.fit(X_train, y_train)\n",
    "print(lr.weights)\n",
    "\n",
    "y_test_pred = lr.predict(X_test)\n",
    "eval_regressor(y_test, y_test_pred)"
   ]
  },
  {
   "cell_type": "code",
   "execution_count": 40,
   "metadata": {},
   "outputs": [
    {
     "name": "stdout",
     "output_type": "stream",
     "text": [
      "[-9.28789307e-01 -4.77365623e-04  2.29507869e+00  2.92098657e-03\n",
      " -9.37644036e-02]\n",
      "RMSE: 0.35\n",
      "R2: 0.66\n"
     ]
    }
   ],
   "source": [
    "model = MyLinearRegression()\n",
    "\n",
    "model.fit(X_scaled_train,y_scaled_train)\n",
    "print(model.weights)\n",
    "\n",
    "y_test_pred = model.predict(X_scaled_test)\n",
    "\n",
    "eval_regressor(y_scaled_test, y_test_pred)"
   ]
  },
  {
   "cell_type": "markdown",
   "metadata": {},
   "source": [
    "<div class=\"alert alert-block alert-success\">\n",
    "<b>Comentario del revisor (1ra Iteracion)</b> <a class=“tocSkip”></a>\n",
    "\n",
    "Hiciste una implementación del modelo correcta! Incluso se probó con los datos escalados\n",
    "</div>"
   ]
  },
  {
   "cell_type": "markdown",
   "metadata": {},
   "source": [
    "# Tarea 4. Ofuscar datos"
   ]
  },
  {
   "cell_type": "markdown",
   "metadata": {},
   "source": [
    "Lo mejor es ofuscar los datos multiplicando las características numéricas (recuerda que se pueden ver como la matriz $X$) por una matriz invertible $P$. \n",
    "\n",
    "$$\n",
    "X' = X \\times P\n",
    "$$\n",
    "\n",
    "Trata de hacerlo y comprueba cómo quedarán los valores de las características después de la transformación. Por cierto, la propiedad de invertibilidad es importante aquí, así que asegúrate de que $P$ sea realmente invertible.\n",
    "\n",
    "Puedes revisar la lección 'Matrices y operaciones matriciales -> Multiplicación de matrices' para recordar la regla de multiplicación de matrices y su implementación con NumPy."
   ]
  },
  {
   "cell_type": "code",
   "execution_count": 41,
   "metadata": {},
   "outputs": [],
   "source": [
    "personal_info_column_list = ['gender', 'age', 'income', 'family_members']\n",
    "df_pn = df[personal_info_column_list]"
   ]
  },
  {
   "cell_type": "code",
   "execution_count": 42,
   "metadata": {},
   "outputs": [],
   "source": [
    "X = df_pn.to_numpy()"
   ]
  },
  {
   "cell_type": "code",
   "execution_count": 43,
   "metadata": {},
   "outputs": [
    {
     "data": {
      "text/plain": [
       "array([[1.00e+00, 4.10e+01, 4.96e+04, 1.00e+00],\n",
       "       [0.00e+00, 4.60e+01, 3.80e+04, 1.00e+00],\n",
       "       [0.00e+00, 2.90e+01, 2.10e+04, 0.00e+00],\n",
       "       ...,\n",
       "       [0.00e+00, 2.00e+01, 3.39e+04, 2.00e+00],\n",
       "       [1.00e+00, 2.20e+01, 3.27e+04, 3.00e+00],\n",
       "       [1.00e+00, 2.80e+01, 4.06e+04, 1.00e+00]])"
      ]
     },
     "execution_count": 43,
     "metadata": {},
     "output_type": "execute_result"
    }
   ],
   "source": [
    "X"
   ]
  },
  {
   "cell_type": "markdown",
   "metadata": {},
   "source": [
    "Generar una matriz aleatoria $P$."
   ]
  },
  {
   "cell_type": "code",
   "execution_count": 44,
   "metadata": {},
   "outputs": [],
   "source": [
    "rng = np.random.default_rng(seed=42)\n",
    "P = rng.random(size=(X.shape[1], X.shape[1]))"
   ]
  },
  {
   "cell_type": "markdown",
   "metadata": {},
   "source": [
    "Comprobar que la matriz P sea invertible"
   ]
  },
  {
   "cell_type": "code",
   "execution_count": 45,
   "metadata": {},
   "outputs": [
    {
     "data": {
      "text/plain": [
       "array([[ 0.41467992, -1.43783972,  0.62798546,  1.14001268],\n",
       "       [-1.06101789,  0.44219337,  0.1329549 ,  1.18425933],\n",
       "       [ 1.42362442,  1.60461607, -2.0553823 , -1.53699695],\n",
       "       [-0.11128575, -0.65813802,  1.74995517, -0.11816316]])"
      ]
     },
     "execution_count": 45,
     "metadata": {},
     "output_type": "execute_result"
    }
   ],
   "source": [
    "np.linalg.inv(P)"
   ]
  },
  {
   "cell_type": "markdown",
   "metadata": {},
   "source": [
    "¿Puedes adivinar la edad o los ingresos de los clientes después de la transformación?"
   ]
  },
  {
   "cell_type": "markdown",
   "metadata": {},
   "source": [
    "No, no es posible porque paraceriran codificados."
   ]
  },
  {
   "cell_type": "code",
   "execution_count": 46,
   "metadata": {},
   "outputs": [],
   "source": [
    "X_prima = X.dot(P)"
   ]
  },
  {
   "cell_type": "code",
   "execution_count": 47,
   "metadata": {},
   "outputs": [
    {
     "data": {
      "text/html": [
       "<div>\n",
       "<style scoped>\n",
       "    .dataframe tbody tr th:only-of-type {\n",
       "        vertical-align: middle;\n",
       "    }\n",
       "\n",
       "    .dataframe tbody tr th {\n",
       "        vertical-align: top;\n",
       "    }\n",
       "\n",
       "    .dataframe thead th {\n",
       "        text-align: right;\n",
       "    }\n",
       "</style>\n",
       "<table border=\"1\" class=\"dataframe\">\n",
       "  <thead>\n",
       "    <tr style=\"text-align: right;\">\n",
       "      <th></th>\n",
       "      <th>gender</th>\n",
       "      <th>age</th>\n",
       "      <th>income</th>\n",
       "      <th>family_members</th>\n",
       "    </tr>\n",
       "  </thead>\n",
       "  <tbody>\n",
       "    <tr>\n",
       "      <th>0</th>\n",
       "      <td>6359.715273</td>\n",
       "      <td>22380.404676</td>\n",
       "      <td>18424.090742</td>\n",
       "      <td>46000.696690</td>\n",
       "    </tr>\n",
       "    <tr>\n",
       "      <th>1</th>\n",
       "      <td>4873.294065</td>\n",
       "      <td>17160.367030</td>\n",
       "      <td>14125.780761</td>\n",
       "      <td>35253.455773</td>\n",
       "    </tr>\n",
       "    <tr>\n",
       "      <th>2</th>\n",
       "      <td>2693.117429</td>\n",
       "      <td>9486.397744</td>\n",
       "      <td>7808.831560</td>\n",
       "      <td>19484.860631</td>\n",
       "    </tr>\n",
       "    <tr>\n",
       "      <th>3</th>\n",
       "      <td>5345.603937</td>\n",
       "      <td>18803.227203</td>\n",
       "      <td>15479.148373</td>\n",
       "      <td>38663.061863</td>\n",
       "    </tr>\n",
       "    <tr>\n",
       "      <th>4</th>\n",
       "      <td>3347.176735</td>\n",
       "      <td>11782.829283</td>\n",
       "      <td>9699.998942</td>\n",
       "      <td>24211.273378</td>\n",
       "    </tr>\n",
       "    <tr>\n",
       "      <th>...</th>\n",
       "      <td>...</td>\n",
       "      <td>...</td>\n",
       "      <td>...</td>\n",
       "      <td>...</td>\n",
       "    </tr>\n",
       "    <tr>\n",
       "      <th>4995</th>\n",
       "      <td>4577.581382</td>\n",
       "      <td>16107.740932</td>\n",
       "      <td>13259.688205</td>\n",
       "      <td>33107.974380</td>\n",
       "    </tr>\n",
       "    <tr>\n",
       "      <th>4996</th>\n",
       "      <td>6717.000247</td>\n",
       "      <td>23634.217067</td>\n",
       "      <td>19456.138634</td>\n",
       "      <td>48589.438841</td>\n",
       "    </tr>\n",
       "    <tr>\n",
       "      <th>4997</th>\n",
       "      <td>4346.223425</td>\n",
       "      <td>15289.241265</td>\n",
       "      <td>12586.162644</td>\n",
       "      <td>31433.508886</td>\n",
       "    </tr>\n",
       "    <tr>\n",
       "      <th>4998</th>\n",
       "      <td>4194.093242</td>\n",
       "      <td>14751.991024</td>\n",
       "      <td>12144.029306</td>\n",
       "      <td>30323.887634</td>\n",
       "    </tr>\n",
       "    <tr>\n",
       "      <th>4999</th>\n",
       "      <td>5205.468274</td>\n",
       "      <td>18314.248144</td>\n",
       "      <td>15077.013708</td>\n",
       "      <td>37649.592955</td>\n",
       "    </tr>\n",
       "  </tbody>\n",
       "</table>\n",
       "<p>5000 rows × 4 columns</p>\n",
       "</div>"
      ],
      "text/plain": [
       "           gender           age        income  family_members\n",
       "0     6359.715273  22380.404676  18424.090742    46000.696690\n",
       "1     4873.294065  17160.367030  14125.780761    35253.455773\n",
       "2     2693.117429   9486.397744   7808.831560    19484.860631\n",
       "3     5345.603937  18803.227203  15479.148373    38663.061863\n",
       "4     3347.176735  11782.829283   9699.998942    24211.273378\n",
       "...           ...           ...           ...             ...\n",
       "4995  4577.581382  16107.740932  13259.688205    33107.974380\n",
       "4996  6717.000247  23634.217067  19456.138634    48589.438841\n",
       "4997  4346.223425  15289.241265  12586.162644    31433.508886\n",
       "4998  4194.093242  14751.991024  12144.029306    30323.887634\n",
       "4999  5205.468274  18314.248144  15077.013708    37649.592955\n",
       "\n",
       "[5000 rows x 4 columns]"
      ]
     },
     "execution_count": 47,
     "metadata": {},
     "output_type": "execute_result"
    }
   ],
   "source": [
    "pd.DataFrame(X_prima,columns=personal_info_column_list)"
   ]
  },
  {
   "cell_type": "markdown",
   "metadata": {},
   "source": [
    "¿Puedes recuperar los datos originales de $X'$ si conoces $P$? Intenta comprobarlo a través de los cálculos moviendo $P$ del lado derecho de la fórmula anterior al izquierdo. En este caso las reglas de la multiplicación matricial son realmente útiles"
   ]
  },
  {
   "cell_type": "markdown",
   "metadata": {},
   "source": [
    "Sí se pueden recuperar.\n",
    "\n",
    "$$\n",
    "X = X' \\times P^{-1}\n",
    "$$"
   ]
  },
  {
   "cell_type": "code",
   "execution_count": 48,
   "metadata": {},
   "outputs": [
    {
     "data": {
      "text/html": [
       "<div>\n",
       "<style scoped>\n",
       "    .dataframe tbody tr th:only-of-type {\n",
       "        vertical-align: middle;\n",
       "    }\n",
       "\n",
       "    .dataframe tbody tr th {\n",
       "        vertical-align: top;\n",
       "    }\n",
       "\n",
       "    .dataframe thead th {\n",
       "        text-align: right;\n",
       "    }\n",
       "</style>\n",
       "<table border=\"1\" class=\"dataframe\">\n",
       "  <thead>\n",
       "    <tr style=\"text-align: right;\">\n",
       "      <th></th>\n",
       "      <th>gender</th>\n",
       "      <th>age</th>\n",
       "      <th>income</th>\n",
       "      <th>family_members</th>\n",
       "    </tr>\n",
       "  </thead>\n",
       "  <tbody>\n",
       "    <tr>\n",
       "      <th>0</th>\n",
       "      <td>1.000000e+00</td>\n",
       "      <td>41.0</td>\n",
       "      <td>49600.0</td>\n",
       "      <td>1.000000e+00</td>\n",
       "    </tr>\n",
       "    <tr>\n",
       "      <th>1</th>\n",
       "      <td>-4.473636e-12</td>\n",
       "      <td>46.0</td>\n",
       "      <td>38000.0</td>\n",
       "      <td>1.000000e+00</td>\n",
       "    </tr>\n",
       "    <tr>\n",
       "      <th>2</th>\n",
       "      <td>-2.515869e-12</td>\n",
       "      <td>29.0</td>\n",
       "      <td>21000.0</td>\n",
       "      <td>9.524523e-13</td>\n",
       "    </tr>\n",
       "    <tr>\n",
       "      <th>3</th>\n",
       "      <td>-4.844982e-12</td>\n",
       "      <td>21.0</td>\n",
       "      <td>41700.0</td>\n",
       "      <td>2.000000e+00</td>\n",
       "    </tr>\n",
       "    <tr>\n",
       "      <th>4</th>\n",
       "      <td>1.000000e+00</td>\n",
       "      <td>28.0</td>\n",
       "      <td>26100.0</td>\n",
       "      <td>-1.019907e-13</td>\n",
       "    </tr>\n",
       "    <tr>\n",
       "      <th>...</th>\n",
       "      <td>...</td>\n",
       "      <td>...</td>\n",
       "      <td>...</td>\n",
       "      <td>...</td>\n",
       "    </tr>\n",
       "    <tr>\n",
       "      <th>4995</th>\n",
       "      <td>-2.559766e-12</td>\n",
       "      <td>28.0</td>\n",
       "      <td>35700.0</td>\n",
       "      <td>2.000000e+00</td>\n",
       "    </tr>\n",
       "    <tr>\n",
       "      <th>4996</th>\n",
       "      <td>-5.486091e-12</td>\n",
       "      <td>34.0</td>\n",
       "      <td>52400.0</td>\n",
       "      <td>1.000000e+00</td>\n",
       "    </tr>\n",
       "    <tr>\n",
       "      <th>4997</th>\n",
       "      <td>-1.928379e-12</td>\n",
       "      <td>20.0</td>\n",
       "      <td>33900.0</td>\n",
       "      <td>2.000000e+00</td>\n",
       "    </tr>\n",
       "    <tr>\n",
       "      <th>4998</th>\n",
       "      <td>1.000000e+00</td>\n",
       "      <td>22.0</td>\n",
       "      <td>32700.0</td>\n",
       "      <td>3.000000e+00</td>\n",
       "    </tr>\n",
       "    <tr>\n",
       "      <th>4999</th>\n",
       "      <td>1.000000e+00</td>\n",
       "      <td>28.0</td>\n",
       "      <td>40600.0</td>\n",
       "      <td>1.000000e+00</td>\n",
       "    </tr>\n",
       "  </tbody>\n",
       "</table>\n",
       "<p>5000 rows × 4 columns</p>\n",
       "</div>"
      ],
      "text/plain": [
       "            gender   age   income  family_members\n",
       "0     1.000000e+00  41.0  49600.0    1.000000e+00\n",
       "1    -4.473636e-12  46.0  38000.0    1.000000e+00\n",
       "2    -2.515869e-12  29.0  21000.0    9.524523e-13\n",
       "3    -4.844982e-12  21.0  41700.0    2.000000e+00\n",
       "4     1.000000e+00  28.0  26100.0   -1.019907e-13\n",
       "...            ...   ...      ...             ...\n",
       "4995 -2.559766e-12  28.0  35700.0    2.000000e+00\n",
       "4996 -5.486091e-12  34.0  52400.0    1.000000e+00\n",
       "4997 -1.928379e-12  20.0  33900.0    2.000000e+00\n",
       "4998  1.000000e+00  22.0  32700.0    3.000000e+00\n",
       "4999  1.000000e+00  28.0  40600.0    1.000000e+00\n",
       "\n",
       "[5000 rows x 4 columns]"
      ]
     },
     "execution_count": 48,
     "metadata": {},
     "output_type": "execute_result"
    }
   ],
   "source": [
    "pd.DataFrame(X_prima.dot(np.linalg.inv(P)),columns=personal_info_column_list)"
   ]
  },
  {
   "cell_type": "markdown",
   "metadata": {},
   "source": [
    "Muestra los tres casos para algunos clientes- Datos originales\n",
    "- El que está transformado- El que está invertido (recuperado)"
   ]
  },
  {
   "cell_type": "code",
   "execution_count": 49,
   "metadata": {},
   "outputs": [
    {
     "name": "stdout",
     "output_type": "stream",
     "text": [
      "[-1.8189894e-12  4.8000000e+01  2.5700000e+04  1.0000000e+00]\n",
      "gender                0.0\n",
      "age                  48.0\n",
      "income            25700.0\n",
      "family_members        1.0\n",
      "Name: 3478, dtype: float64\n"
     ]
    }
   ],
   "source": [
    "#primer cliente.\n",
    "print(X_prima[3478,:].dot(np.linalg.inv(P)))\n",
    "print(df[personal_info_column_list].loc[3478])"
   ]
  },
  {
   "cell_type": "code",
   "execution_count": 50,
   "metadata": {},
   "outputs": [
    {
     "name": "stdout",
     "output_type": "stream",
     "text": [
      "[1.00e+00 2.40e+01 3.37e+04 1.00e+00]\n",
      "gender                1.0\n",
      "age                  24.0\n",
      "income            33700.0\n",
      "family_members        1.0\n",
      "Name: 2845, dtype: float64\n"
     ]
    }
   ],
   "source": [
    "#segundo cliente\n",
    "print(X_prima[2845,:].dot(np.linalg.inv(P)))\n",
    "print(df[personal_info_column_list].loc[2845])"
   ]
  },
  {
   "cell_type": "code",
   "execution_count": 51,
   "metadata": {},
   "outputs": [
    {
     "name": "stdout",
     "output_type": "stream",
     "text": [
      "[-1.8189894e-12  3.2000000e+01  2.5600000e+04  1.0000000e+00]\n",
      "gender                0.0\n",
      "age                  32.0\n",
      "income            25600.0\n",
      "family_members        1.0\n",
      "Name: 4230, dtype: float64\n"
     ]
    }
   ],
   "source": [
    "#tercer cliente\n",
    "print(X_prima[4230,:].dot(np.linalg.inv(P)))\n",
    "print(df[personal_info_column_list].loc[4230])"
   ]
  },
  {
   "cell_type": "markdown",
   "metadata": {},
   "source": [
    "Seguramente puedes ver que algunos valores no son exactamente iguales a los de los datos originales. ¿Cuál podría ser la razón de ello?"
   ]
  },
  {
   "cell_type": "markdown",
   "metadata": {},
   "source": [
    "Podría ser por la matriz P se genera con número que son muy pequeños. e.g. \n",
    "$$\n",
    "1x10^{-12}\n",
    "$$"
   ]
  },
  {
   "cell_type": "markdown",
   "metadata": {},
   "source": [
    "<div class=\"alert alert-block alert-success\">\n",
    "<b>Comentario del revisor (1ra Iteracion)</b> <a class=“tocSkip”></a>\n",
    "\n",
    "Excelente proceso de ofuscar los datos, hiciste uso de la librería numpy de la forma correcta para lograr el objetivo de este ejercicio\n",
    "</div>"
   ]
  },
  {
   "cell_type": "markdown",
   "metadata": {},
   "source": [
    "## Prueba de que la ofuscación de datos puede funcionar con regresión lineal"
   ]
  },
  {
   "cell_type": "markdown",
   "metadata": {},
   "source": [
    "En este proyecto la tarea de regresión se ha resuelto con la regresión lineal. Tu siguiente tarea es demostrar _analytically_ que el método de ofuscación no afectará a la regresión lineal en términos de valores predichos, es decir, que sus valores seguirán siendo los mismos. ¿Lo puedes creer? Pues no hace falta que lo creas, ¡tienes que que demostrarlo!"
   ]
  },
  {
   "cell_type": "markdown",
   "metadata": {},
   "source": [
    "Entonces, los datos están ofuscados y ahora tenemos $X \\times P$ en lugar de tener solo $X$. En consecuencia, hay otros pesos $w_P$ como\n",
    "$$\n",
    "w = (X^T X)^{-1} X^T y \\quad \\Rightarrow \\quad w_P = [(XP)^T XP]^{-1} (XP)^T y\n",
    "$$\n",
    "\n",
    "¿Cómo se relacionarían $w$ y $w_P$ si simplificáramos la fórmula de $w_P$ anterior? \n",
    "\n",
    "¿Cuáles serían los valores predichos con $w_P$? \n",
    "\n",
    "¿Qué significa esto para la calidad de la regresión lineal si esta se mide mediante la RECM?\n",
    "Revisa el Apéndice B Propiedades de las matrices al final del cuaderno. ¡Allí encontrarás fórmulas muy útiles!\n",
    "\n",
    "No es necesario escribir código en esta sección, basta con una explicación analítica."
   ]
  },
  {
   "cell_type": "markdown",
   "metadata": {},
   "source": [
    "**Respuesta**"
   ]
  },
  {
   "cell_type": "markdown",
   "metadata": {},
   "source": [
    "La relación de $w$ y $wp$. Es que son los mismos valores pero multiplicados por otra matriz e.g $P$\n",
    "\n",
    "Los valores predichos con $w_P$ serían $\\hat{y} = X_{val} w_P$"
   ]
  },
  {
   "cell_type": "markdown",
   "metadata": {},
   "source": [
    "**Prueba analítica**"
   ]
  },
  {
   "cell_type": "markdown",
   "metadata": {},
   "source": [
    "¿Qué significa esto para la calidad de la regresión lineal si esta se mide mediante la RECM? la fórmula podria quedar de la siguiente manera.\n",
    "\n",
    "$\\text{RECM} = \\sqrt{\\frac{1}{n}\\sum_{j=1}^{n}(X(1-w_p))^{2}}$"
   ]
  },
  {
   "cell_type": "markdown",
   "metadata": {},
   "source": [
    "## Prueba de regresión lineal con ofuscación de datos"
   ]
  },
  {
   "cell_type": "markdown",
   "metadata": {},
   "source": [
    "Ahora, probemos que la regresión lineal pueda funcionar, en términos computacionales, con la transformación de ofuscación elegida.\n",
    "Construye un procedimiento o una clase que ejecute la regresión lineal opcionalmente con la ofuscación. Puedes usar una implementación de regresión lineal de scikit-learn o tu propia implementación.\n",
    "Ejecuta la regresión lineal para los datos originales y los ofuscados, compara los valores predichos y los valores de las métricas RMSE y $R^2$. ¿Hay alguna diferencia?"
   ]
  },
  {
   "cell_type": "markdown",
   "metadata": {},
   "source": [
    "**Procedimiento**\n",
    "\n",
    "- Crea una matriz cuadrada $P$ de números aleatorios.- Comprueba que sea invertible. Si no lo es, repite el primer paso hasta obtener una matriz invertible.- <¡ tu comentario aquí Listo!>\n",
    "- Utiliza $XP$ como la nueva matriz de características"
   ]
  },
  {
   "cell_type": "code",
   "execution_count": 52,
   "metadata": {},
   "outputs": [
    {
     "name": "stdout",
     "output_type": "stream",
     "text": [
      "[[0.4143315  0.1269383  0.51398504 0.29724262]\n",
      " [0.59803695 0.43127055 0.30829427 0.35530073]\n",
      " [0.08851655 0.91222752 0.22340719 0.01201367]\n",
      " [0.81724997 0.85341533 0.96844228 0.71872996]]\n"
     ]
    },
    {
     "data": {
      "text/plain": [
       "array([[ 3.56370916,  3.41933987,  0.86118863, -3.17855991],\n",
       "       [-1.21776495,  0.16843583,  0.80537524,  0.40689936],\n",
       "       [ 3.98969105, -1.96510195,  1.02470049, -0.69569173],\n",
       "       [-7.98209028, -1.44019784, -3.3162514 ,  5.45985469]])"
      ]
     },
     "execution_count": 52,
     "metadata": {},
     "output_type": "execute_result"
    }
   ],
   "source": [
    "rng = np.random.default_rng(seed=67)\n",
    "P = rng.random(size=(X.shape[1], X.shape[1]))\n",
    "print(P)\n",
    "np.linalg.inv(P)"
   ]
  },
  {
   "cell_type": "code",
   "execution_count": 53,
   "metadata": {},
   "outputs": [],
   "source": [
    "X_train_P = X_train.dot(P)\n",
    "X_test_P = X_test.dot(P)"
   ]
  },
  {
   "cell_type": "code",
   "execution_count": 54,
   "metadata": {},
   "outputs": [
    {
     "data": {
      "text/plain": [
       "LinearRegression()"
      ]
     },
     "execution_count": 54,
     "metadata": {},
     "output_type": "execute_result"
    }
   ],
   "source": [
    "model = sklearn.linear_model.LinearRegression()\n",
    "model.fit(X_train_P,y_train)"
   ]
  },
  {
   "cell_type": "code",
   "execution_count": 55,
   "metadata": {},
   "outputs": [
    {
     "name": "stdout",
     "output_type": "stream",
     "text": [
      "RMSE: 0.34\n",
      "R2: 0.66\n"
     ]
    }
   ],
   "source": [
    "eval_regressor(y_test,model.predict(X_test_P))"
   ]
  },
  {
   "cell_type": "markdown",
   "metadata": {},
   "source": [
    "<div class=\"alert alert-block alert-success\">\n",
    "<b>Comentario del revisor (1ra Iteracion)</b> <a class=“tocSkip”></a>\n",
    "\n",
    "Correcto! Hiciste un buen trabajo con tu proyecto y los ejercicios planteados para su desarrollo, se nota el manejo y tu conocimiento en las librerías\n",
    "</div>"
   ]
  },
  {
   "cell_type": "markdown",
   "metadata": {},
   "source": [
    "# Conclusiones"
   ]
  },
  {
   "cell_type": "markdown",
   "metadata": {},
   "source": [
    "En la tarea uno calculamos diferentes distancia y las comparamos entre sí con datos escalados y no escalados. Debido esto las distancias no son las mismas.\n",
    "\n",
    "Además de que la la distnacias Manhattan son mayores los calculos que la Euclidiana."
   ]
  },
  {
   "cell_type": "markdown",
   "metadata": {},
   "source": [
    "En la tarea dos observamos que hay un desquelibrio de clases, calculamos f2_score del modelo con diferentes parametros de n_neighbors.\n",
    "Además contruimos uno modelo cuando las predicciones son 0, 0.5 y 1."
   ]
  },
  {
   "cell_type": "markdown",
   "metadata": {},
   "source": [
    "En la tarea 3. Creamos una clase de Regressión Lineal y calcalumos el RMSE y $R^{2}$ y comparamos los resultados con los datos escalados y no ecalados."
   ]
  },
  {
   "cell_type": "markdown",
   "metadata": {},
   "source": [
    "En la tarea 4. demostramos $X' = X P$ donde $P$ es una matriz cuadrática. Usamos X' como entranmiento del modelo para demostrar que dan los mismos resultados RMSE y $R^{2}$ que en la tarea anterior."
   ]
  },
  {
   "cell_type": "markdown",
   "metadata": {},
   "source": [
    "Saber calcular vectores y matrices nos da un entidimiento fundamental para saber como se contruyen mosdelos de ML."
   ]
  },
  {
   "cell_type": "markdown",
   "metadata": {},
   "source": [
    "<div class=\"alert alert-block alert-info\">\n",
    "<b>Comentario general (1ra Iteracion)</b> <a class=“tocSkip”></a>\n",
    "\n",
    "Te felicito! Hiciste un buen proyecto, se nota tu habilidad con las librerías usadas para el tratamiento de los datos y entrenamiento de modelos de ML. Aunque al momento de calcular las clases no se generaron solo dos sino que generaste 5, por lo que se vieron afectos el resto de los procesos.\n",
    "    \n",
    "Te he dejado un comentario en esa parte y con una sugerencia de como puedas dar una correcta solución, realiza esos cambios y si tienes que plantear nuevas conclusiones adelante.\n",
    "    \n",
    "Saludos!\n",
    "</div>"
   ]
  },
  {
   "cell_type": "markdown",
   "metadata": {},
   "source": [
    "# Lista de control"
   ]
  },
  {
   "cell_type": "markdown",
   "metadata": {},
   "source": [
    "Escribe 'x' para verificar. Luego presiona Shift+Enter."
   ]
  },
  {
   "cell_type": "markdown",
   "metadata": {},
   "source": [
    "- [x]  Jupyter Notebook está abierto\n",
    "- [x]  El código no tiene errores\n",
    "- [x]  Las celdas están ordenadas de acuerdo con la lógica y el orden de ejecución\n",
    "- [x]  Se ha realizado la tarea 1\n",
    "    - [x]  Está presente el procedimiento que puede devolver k clientes similares para un cliente determinado\n",
    "    - [x]  Se probó el procedimiento para las cuatro combinaciones propuestas.\n",
    "    - [x]  Se respondieron las preguntas sobre la escala/distancia.\n",
    "- [x] Se ha realizado la tarea 2\n",
    "    - [x]  Se construyó y probó el modelo de clasificación aleatoria para todos los niveles de probabilidad. \n",
    "    - [x]   Se construyó y probó el modelo de clasificación kNN tanto para los datos originales como para los escalados. Se calculó la métrica F1.\n",
    "- [x]   Se ha realizado la tarea 3\n",
    "    - [x]  Se implementó la solución de regresión lineal mediante operaciones matriciales    \n",
    "    - [x]  Se calculó la RECM para la solución implementada\n",
    "- [x]  Se ha realizado la tarea 4\n",
    "    - [x]  Se ofuscaron los datos mediante una matriz aleatoria e invertible P\n",
    "    - [x]  Se recuperaron los datos ofuscados y se han mostrado algunos ejemplos\n",
    "    - [x]  Se proporcionó la prueba analítica de que la transformación no afecta a la RECM\n",
    "    - [x]  Se proporcionó la prueba computacional de que la transformación no afecta a la RECM\n",
    "- [x]  Se han sacado conclusiones"
   ]
  },
  {
   "cell_type": "markdown",
   "metadata": {},
   "source": [
    "# Apéndices\n",
    "\n",
    "## Apéndice A: Escribir fórmulas en los cuadernos de Jupyter"
   ]
  },
  {
   "cell_type": "markdown",
   "metadata": {},
   "source": [
    "Puedes escribir fórmulas en tu Jupyter Notebook utilizando un lenguaje de marcado proporcionado por un sistema de publicación de alta calidad llamado $\\LaTeX$ (se pronuncia como \"Lah-tech\"). Las fórmulas se verán como las de los libros de texto.\n",
    "\n",
    "Para incorporar una fórmula a un texto, pon el signo de dólar (\\\\$) antes y después del texto de la fórmula, por ejemplo: $\\frac{1}{2} \\times \\frac{3}{2} = \\frac{3}{4}$ or $y = x^2, x \\ge 1$.\n",
    "\n",
    "Si una fórmula debe estar en el mismo párrafo, pon el doble signo de dólar (\\\\$\\\\$) antes y después del texto de la fórmula, por ejemplo:\n",
    "$$\n",
    "\\bar{x} = \\frac{1}{n}\\sum_{i=1}^{n} x_i.\n",
    "$$\n",
    "\n",
    "El lenguaje de marcado de [LaTeX](https://es.wikipedia.org/wiki/LaTeX) es muy popular entre las personas que utilizan fórmulas en sus artículos, libros y textos. Puede resultar complicado, pero sus fundamentos son sencillos. Consulta esta [ficha de ayuda](http://tug.ctan.org/info/undergradmath/undergradmath.pdf) (materiales en inglés) de dos páginas para aprender a componer las fórmulas más comunes."
   ]
  },
  {
   "cell_type": "markdown",
   "metadata": {},
   "source": [
    "## Apéndice B: Propiedades de las matrices"
   ]
  },
  {
   "cell_type": "markdown",
   "metadata": {},
   "source": [
    "Las matrices tienen muchas propiedades en cuanto al álgebra lineal. Aquí se enumeran algunas de ellas que pueden ayudarte a la hora de realizar la prueba analítica de este proyecto."
   ]
  },
  {
   "cell_type": "markdown",
   "metadata": {},
   "source": [
    "<table>\n",
    "<tr>\n",
    "<td>Distributividad</td><td>$A(B+C)=AB+AC$</td>\n",
    "</tr>\n",
    "<tr>\n",
    "<td>No conmutatividad</td><td>$AB \\neq BA$</td>\n",
    "</tr>\n",
    "<tr>\n",
    "<td>Propiedad asociativa de la multiplicación</td><td>$(AB)C = A(BC)$</td>\n",
    "</tr>\n",
    "<tr>\n",
    "<td>Propiedad de identidad multiplicativa</td><td>$IA = AI = A$</td>\n",
    "</tr>\n",
    "<tr>\n",
    "<td></td><td>$A^{-1}A = AA^{-1} = I$\n",
    "</td>\n",
    "</tr>    \n",
    "<tr>\n",
    "<td></td><td>$(AB)^{-1} = B^{-1}A^{-1}$</td>\n",
    "</tr>    \n",
    "<tr>\n",
    "<td>Reversibilidad de la transposición de un producto de matrices,</td><td>$(AB)^T = B^TA^T$</td>\n",
    "</tr>    \n",
    "</table>"
   ]
  }
 ],
 "metadata": {
  "ExecuteTimeLog": [
   {
    "duration": 3,
    "start_time": "2024-08-17T18:36:52.113Z"
   },
   {
    "duration": 5241,
    "start_time": "2024-08-17T18:36:52.120Z"
   },
   {
    "duration": 1211,
    "start_time": "2024-08-17T18:36:57.364Z"
   },
   {
    "duration": 0,
    "start_time": "2024-08-17T18:36:58.582Z"
   },
   {
    "duration": 0,
    "start_time": "2024-08-17T18:36:58.585Z"
   },
   {
    "duration": 0,
    "start_time": "2024-08-17T18:36:58.587Z"
   },
   {
    "duration": 0,
    "start_time": "2024-08-17T18:36:58.589Z"
   },
   {
    "duration": 0,
    "start_time": "2024-08-17T18:36:58.591Z"
   },
   {
    "duration": 0,
    "start_time": "2024-08-17T18:36:58.593Z"
   },
   {
    "duration": 0,
    "start_time": "2024-08-17T18:36:58.596Z"
   },
   {
    "duration": 0,
    "start_time": "2024-08-17T18:36:58.598Z"
   },
   {
    "duration": 0,
    "start_time": "2024-08-17T18:36:58.600Z"
   },
   {
    "duration": 0,
    "start_time": "2024-08-17T18:36:58.602Z"
   },
   {
    "duration": 0,
    "start_time": "2024-08-17T18:36:58.604Z"
   },
   {
    "duration": 0,
    "start_time": "2024-08-17T18:36:58.606Z"
   },
   {
    "duration": 0,
    "start_time": "2024-08-17T18:36:58.609Z"
   },
   {
    "duration": 0,
    "start_time": "2024-08-17T18:36:58.611Z"
   },
   {
    "duration": 0,
    "start_time": "2024-08-17T18:36:58.613Z"
   },
   {
    "duration": 0,
    "start_time": "2024-08-17T18:36:58.668Z"
   },
   {
    "duration": 0,
    "start_time": "2024-08-17T18:36:58.672Z"
   },
   {
    "duration": 0,
    "start_time": "2024-08-17T18:36:58.675Z"
   },
   {
    "duration": 0,
    "start_time": "2024-08-17T18:36:58.677Z"
   },
   {
    "duration": 0,
    "start_time": "2024-08-17T18:36:58.687Z"
   },
   {
    "duration": 0,
    "start_time": "2024-08-17T18:36:58.691Z"
   },
   {
    "duration": 0,
    "start_time": "2024-08-17T18:36:58.692Z"
   },
   {
    "duration": 0,
    "start_time": "2024-08-17T18:36:58.695Z"
   },
   {
    "duration": 0,
    "start_time": "2024-08-17T18:36:58.698Z"
   },
   {
    "duration": 0,
    "start_time": "2024-08-17T18:36:58.700Z"
   },
   {
    "duration": 0,
    "start_time": "2024-08-17T18:36:58.703Z"
   },
   {
    "duration": 0,
    "start_time": "2024-08-17T18:36:58.706Z"
   },
   {
    "duration": 0,
    "start_time": "2024-08-17T18:36:58.708Z"
   },
   {
    "duration": 0,
    "start_time": "2024-08-17T18:36:58.711Z"
   },
   {
    "duration": 0,
    "start_time": "2024-08-17T18:36:58.712Z"
   },
   {
    "duration": 0,
    "start_time": "2024-08-17T18:36:58.713Z"
   },
   {
    "duration": 0,
    "start_time": "2024-08-17T18:36:58.769Z"
   },
   {
    "duration": 0,
    "start_time": "2024-08-17T18:36:58.772Z"
   },
   {
    "duration": 0,
    "start_time": "2024-08-17T18:36:58.774Z"
   },
   {
    "duration": 0,
    "start_time": "2024-08-17T18:36:58.776Z"
   },
   {
    "duration": 0,
    "start_time": "2024-08-17T18:36:58.780Z"
   },
   {
    "duration": 0,
    "start_time": "2024-08-17T18:36:58.783Z"
   },
   {
    "duration": 0,
    "start_time": "2024-08-17T18:36:58.785Z"
   },
   {
    "duration": 0,
    "start_time": "2024-08-17T18:36:58.788Z"
   },
   {
    "duration": 0,
    "start_time": "2024-08-17T18:36:58.791Z"
   },
   {
    "duration": 0,
    "start_time": "2024-08-17T18:36:58.793Z"
   },
   {
    "duration": 0,
    "start_time": "2024-08-17T18:36:58.797Z"
   },
   {
    "duration": 0,
    "start_time": "2024-08-17T18:36:58.799Z"
   },
   {
    "duration": 0,
    "start_time": "2024-08-17T18:36:58.800Z"
   },
   {
    "duration": 0,
    "start_time": "2024-08-17T18:36:58.802Z"
   },
   {
    "duration": 0,
    "start_time": "2024-08-17T18:36:58.805Z"
   },
   {
    "duration": 0,
    "start_time": "2024-08-17T18:36:58.807Z"
   },
   {
    "duration": 0,
    "start_time": "2024-08-17T18:36:58.810Z"
   },
   {
    "duration": 0,
    "start_time": "2024-08-17T18:36:58.869Z"
   },
   {
    "duration": 4,
    "start_time": "2024-08-17T18:37:08.027Z"
   },
   {
    "duration": 5,
    "start_time": "2024-08-17T18:37:08.035Z"
   },
   {
    "duration": 19,
    "start_time": "2024-08-17T18:37:08.043Z"
   },
   {
    "duration": 7,
    "start_time": "2024-08-17T18:37:08.065Z"
   },
   {
    "duration": 19,
    "start_time": "2024-08-17T18:37:08.080Z"
   },
   {
    "duration": 15,
    "start_time": "2024-08-17T18:37:08.102Z"
   },
   {
    "duration": 5,
    "start_time": "2024-08-17T18:37:08.121Z"
   },
   {
    "duration": 17,
    "start_time": "2024-08-17T18:37:08.170Z"
   },
   {
    "duration": 4,
    "start_time": "2024-08-17T18:37:08.190Z"
   },
   {
    "duration": 30,
    "start_time": "2024-08-17T18:37:08.197Z"
   },
   {
    "duration": 42,
    "start_time": "2024-08-17T18:37:08.230Z"
   },
   {
    "duration": 4881,
    "start_time": "2024-08-17T18:37:08.275Z"
   },
   {
    "duration": 4,
    "start_time": "2024-08-17T18:37:13.159Z"
   },
   {
    "duration": 15,
    "start_time": "2024-08-17T18:37:13.172Z"
   },
   {
    "duration": 15,
    "start_time": "2024-08-17T18:37:13.189Z"
   },
   {
    "duration": 15,
    "start_time": "2024-08-17T18:37:13.207Z"
   },
   {
    "duration": 60,
    "start_time": "2024-08-17T18:37:13.225Z"
   },
   {
    "duration": 37,
    "start_time": "2024-08-17T18:37:13.289Z"
   },
   {
    "duration": 66,
    "start_time": "2024-08-17T18:37:13.329Z"
   },
   {
    "duration": 40,
    "start_time": "2024-08-17T18:37:13.398Z"
   },
   {
    "duration": 28,
    "start_time": "2024-08-17T18:37:13.441Z"
   },
   {
    "duration": 10,
    "start_time": "2024-08-17T18:37:13.472Z"
   },
   {
    "duration": 21,
    "start_time": "2024-08-17T18:37:13.485Z"
   },
   {
    "duration": 8,
    "start_time": "2024-08-17T18:37:13.509Z"
   },
   {
    "duration": 227,
    "start_time": "2024-08-17T18:37:13.520Z"
   },
   {
    "duration": 18,
    "start_time": "2024-08-17T18:37:13.750Z"
   },
   {
    "duration": 13,
    "start_time": "2024-08-17T18:37:13.771Z"
   },
   {
    "duration": 8,
    "start_time": "2024-08-17T18:37:13.788Z"
   },
   {
    "duration": 731,
    "start_time": "2024-08-17T18:37:13.800Z"
   },
   {
    "duration": 859,
    "start_time": "2024-08-17T18:37:14.535Z"
   },
   {
    "duration": 5,
    "start_time": "2024-08-17T18:37:15.397Z"
   },
   {
    "duration": 83,
    "start_time": "2024-08-17T18:37:15.406Z"
   },
   {
    "duration": 8,
    "start_time": "2024-08-17T18:37:15.492Z"
   },
   {
    "duration": 5,
    "start_time": "2024-08-17T18:37:15.503Z"
   },
   {
    "duration": 57,
    "start_time": "2024-08-17T18:37:15.511Z"
   },
   {
    "duration": 15,
    "start_time": "2024-08-17T18:37:15.570Z"
   },
   {
    "duration": 85,
    "start_time": "2024-08-17T18:37:15.588Z"
   },
   {
    "duration": 9,
    "start_time": "2024-08-17T18:37:15.676Z"
   },
   {
    "duration": 80,
    "start_time": "2024-08-17T18:37:15.689Z"
   },
   {
    "duration": 6,
    "start_time": "2024-08-17T18:37:15.773Z"
   },
   {
    "duration": 5,
    "start_time": "2024-08-17T18:37:15.789Z"
   },
   {
    "duration": 81,
    "start_time": "2024-08-17T18:37:15.797Z"
   },
   {
    "duration": 8,
    "start_time": "2024-08-17T18:37:15.884Z"
   },
   {
    "duration": 23,
    "start_time": "2024-08-17T18:37:15.969Z"
   },
   {
    "duration": 22,
    "start_time": "2024-08-17T18:37:16.067Z"
   },
   {
    "duration": 82,
    "start_time": "2024-08-17T18:37:16.093Z"
   },
   {
    "duration": 11,
    "start_time": "2024-08-17T18:37:16.179Z"
   },
   {
    "duration": 84,
    "start_time": "2024-08-17T18:37:16.193Z"
   },
   {
    "duration": 91,
    "start_time": "2024-08-17T18:37:16.281Z"
   },
   {
    "duration": 8,
    "start_time": "2024-08-17T18:37:16.378Z"
   },
   {
    "duration": 85,
    "start_time": "2024-08-17T18:37:16.389Z"
   },
   {
    "duration": 12,
    "start_time": "2024-08-17T18:37:16.478Z"
   }
  ],
  "kernelspec": {
   "display_name": "Python 3 (ipykernel)",
   "language": "python",
   "name": "python3"
  },
  "language_info": {
   "codemirror_mode": {
    "name": "ipython",
    "version": 3
   },
   "file_extension": ".py",
   "mimetype": "text/x-python",
   "name": "python",
   "nbconvert_exporter": "python",
   "pygments_lexer": "ipython3",
   "version": "3.11.8"
  },
  "toc": {
   "base_numbering": 1,
   "nav_menu": {
    "height": "339px",
    "width": "386px"
   },
   "number_sections": true,
   "sideBar": true,
   "skip_h1_title": true,
   "title_cell": "Table of Contents",
   "title_sidebar": "Contents",
   "toc_cell": false,
   "toc_position": {},
   "toc_section_display": true,
   "toc_window_display": false
  }
 },
 "nbformat": 4,
 "nbformat_minor": 4
}
